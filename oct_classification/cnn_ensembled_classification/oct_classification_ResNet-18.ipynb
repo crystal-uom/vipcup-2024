{
 "cells": [
  {
   "cell_type": "code",
   "execution_count": 1,
   "metadata": {},
   "outputs": [
    {
     "name": "stdout",
     "output_type": "stream",
     "text": [
      "torch version: 2.3.1+cu121\n",
      "torchvision version: 0.18.1+cu121\n"
     ]
    }
   ],
   "source": [
    "# Continue with regular imports\n",
    "import matplotlib.pyplot as plt\n",
    "import torch\n",
    "import torchvision\n",
    "import os\n",
    "import zipfile\n",
    "\n",
    "from pathlib import Path\n",
    "\n",
    "import requests\n",
    "import numpy as np\n",
    "\n",
    "from torch import nn\n",
    "from torchvision import transforms\n",
    "print(f\"torch version: {torch.__version__}\")\n",
    "print(f\"torchvision version: {torchvision.__version__}\")\n",
    "\n",
    "# Try to get torchinfo, install it if it doesn't work\n",
    "try:\n",
    "    from torchinfo import summary\n",
    "except:\n",
    "    print(\"[INFO] Couldn't find torchinfo... installing it.\")\n",
    "    !pip install -q torchinfo\n",
    "    from torchinfo import summary"
   ]
  },
  {
   "cell_type": "code",
   "execution_count": 2,
   "metadata": {},
   "outputs": [
    {
     "name": "stdout",
     "output_type": "stream",
     "text": [
      "2.3.1+cu121\n",
      "12.1\n"
     ]
    }
   ],
   "source": [
    "print(torch.__version__)\n",
    "print(torch.version.cuda)"
   ]
  },
  {
   "cell_type": "code",
   "execution_count": 3,
   "metadata": {},
   "outputs": [
    {
     "data": {
      "text/plain": [
       "'cuda'"
      ]
     },
     "execution_count": 3,
     "metadata": {},
     "output_type": "execute_result"
    }
   ],
   "source": [
    "device = \"cuda\" if torch.cuda.is_available() else \"cpu\"\n",
    "device"
   ]
  },
  {
   "cell_type": "markdown",
   "metadata": {},
   "source": [
    "Input and Output Paths"
   ]
  },
  {
   "cell_type": "code",
   "execution_count": 4,
   "metadata": {},
   "outputs": [],
   "source": [
    "denoised_oct_training_dataset = \"D:/VIP Cup/Output dataset/denoised_pkl_dataset\"\n",
    "results = \"D:/VIP Cup/Output dataset/classification_results\""
   ]
  },
  {
   "cell_type": "markdown",
   "metadata": {},
   "source": [
    "Function for open a pickle file"
   ]
  },
  {
   "cell_type": "code",
   "execution_count": 5,
   "metadata": {},
   "outputs": [],
   "source": [
    "import pickle\n",
    "\n",
    "def open_pickle(path_to_pkl):\n",
    "\n",
    "    with open(path_to_pkl, 'rb') as file:\n",
    "        loaded_vol_oct = pickle.load(file)\n",
    "\n",
    "    return loaded_vol_oct"
   ]
  },
  {
   "cell_type": "code",
   "execution_count": 6,
   "metadata": {},
   "outputs": [],
   "source": [
    "import random\n",
    "from sklearn.model_selection import train_test_split\n",
    "\n",
    "def split_train_test_data(dataset, test_ratio: float):\n",
    "    \"\"\"\n",
    "    Split the dataset into training and testing datasets.\n",
    "\n",
    "    Parameters:\n",
    "    - dataset: The dataset to be split.\n",
    "    - test_ratio: The ratio of the testing dataset size to the total dataset size.\n",
    "\n",
    "    Returns:\n",
    "    - train_dataset: The training dataset as paths.\n",
    "    - test_dataset: The testing dataset as paths.\n",
    "    \"\"\"\n",
    "\n",
    "    random.seed(42)\n",
    "    train_dataset, test_dataset = [],[]\n",
    "\n",
    "    labels = os.listdir(dataset)\n",
    "    for label in labels:\n",
    "        label_path = os.path.join(dataset, label)\n",
    "        vol_images = os.listdir(label_path)\n",
    "        train_images, test_images = train_test_split(vol_images, test_size=test_ratio, random_state=42)\n",
    "        train_image_count = len(train_images)\n",
    "        test_image_count = len(test_images)\n",
    "\n",
    "        for train_image in train_images:\n",
    "            train_dataset.append(os.path.join(label_path, train_image))\n",
    "        for test_image in test_images:\n",
    "            test_dataset.append(os.path.join(label_path, test_image))\n",
    "\n",
    "        print(f\"class {label} has {train_image_count} training images and {test_image_count} testing images.\")\n",
    "        \n",
    "\n",
    "    return train_dataset, test_dataset, labels"
   ]
  },
  {
   "cell_type": "code",
   "execution_count": 7,
   "metadata": {},
   "outputs": [
    {
     "name": "stdout",
     "output_type": "stream",
     "text": [
      "class 0 has 34 training images and 8 testing images.\n",
      "class 1 has 24 training images and 6 testing images.\n",
      "class 2 has 23 training images and 5 testing images.\n",
      "\n",
      "Number of training samples: 81\n",
      "Number of testing samples: 19\n"
     ]
    }
   ],
   "source": [
    "train_dataset_path, test_dataset_path, classes = split_train_test_data(denoised_oct_training_dataset, test_ratio=0.1667)\n",
    "print()\n",
    "print(f\"Number of training samples: {len(train_dataset_path)}\")\n",
    "print(f\"Number of testing samples: {len(test_dataset_path)}\")"
   ]
  },
  {
   "cell_type": "code",
   "execution_count": 8,
   "metadata": {},
   "outputs": [
    {
     "data": {
      "text/plain": [
       "['D:/VIP Cup/Output dataset/denoised_pkl_dataset\\\\0\\\\RawDataQA (37).pkl',\n",
       " 'D:/VIP Cup/Output dataset/denoised_pkl_dataset\\\\0\\\\RawDataQA (15).pkl',\n",
       " 'D:/VIP Cup/Output dataset/denoised_pkl_dataset\\\\0\\\\RawDataQA (34).pkl',\n",
       " 'D:/VIP Cup/Output dataset/denoised_pkl_dataset\\\\0\\\\RawDataQA (20).pkl',\n",
       " 'D:/VIP Cup/Output dataset/denoised_pkl_dataset\\\\0\\\\RawDataQA (25).pkl',\n",
       " 'D:/VIP Cup/Output dataset/denoised_pkl_dataset\\\\0\\\\RawDataQA (18).pkl',\n",
       " 'D:/VIP Cup/Output dataset/denoised_pkl_dataset\\\\0\\\\RawDataQA (23).pkl',\n",
       " 'D:/VIP Cup/Output dataset/denoised_pkl_dataset\\\\0\\\\RawDataQA (4).pkl',\n",
       " 'D:/VIP Cup/Output dataset/denoised_pkl_dataset\\\\0\\\\RawDataQA (24).pkl',\n",
       " 'D:/VIP Cup/Output dataset/denoised_pkl_dataset\\\\0\\\\RawDataQA (42).pkl',\n",
       " 'D:/VIP Cup/Output dataset/denoised_pkl_dataset\\\\0\\\\RawDataQA (41).pkl',\n",
       " 'D:/VIP Cup/Output dataset/denoised_pkl_dataset\\\\0\\\\RawDataQA (1).pkl',\n",
       " 'D:/VIP Cup/Output dataset/denoised_pkl_dataset\\\\0\\\\RawDataQA (31).pkl',\n",
       " 'D:/VIP Cup/Output dataset/denoised_pkl_dataset\\\\0\\\\RawDataQA (14).pkl',\n",
       " 'D:/VIP Cup/Output dataset/denoised_pkl_dataset\\\\0\\\\RawDataQA (2).pkl',\n",
       " 'D:/VIP Cup/Output dataset/denoised_pkl_dataset\\\\0\\\\RawDataQA (8).pkl',\n",
       " 'D:/VIP Cup/Output dataset/denoised_pkl_dataset\\\\0\\\\RawDataQA (10).pkl',\n",
       " 'D:/VIP Cup/Output dataset/denoised_pkl_dataset\\\\0\\\\RawDataQA (38).pkl',\n",
       " 'D:/VIP Cup/Output dataset/denoised_pkl_dataset\\\\0\\\\RawDataQA (29).pkl',\n",
       " 'D:/VIP Cup/Output dataset/denoised_pkl_dataset\\\\0\\\\RawDataQA (11).pkl',\n",
       " 'D:/VIP Cup/Output dataset/denoised_pkl_dataset\\\\0\\\\RawDataQA (39).pkl',\n",
       " 'D:/VIP Cup/Output dataset/denoised_pkl_dataset\\\\0\\\\RawDataQA (9).pkl',\n",
       " 'D:/VIP Cup/Output dataset/denoised_pkl_dataset\\\\0\\\\RawDataQA (12).pkl',\n",
       " 'D:/VIP Cup/Output dataset/denoised_pkl_dataset\\\\0\\\\RawDataQA (5).pkl',\n",
       " 'D:/VIP Cup/Output dataset/denoised_pkl_dataset\\\\0\\\\RawDataQA (30).pkl',\n",
       " 'D:/VIP Cup/Output dataset/denoised_pkl_dataset\\\\0\\\\RawDataQA (40).pkl',\n",
       " 'D:/VIP Cup/Output dataset/denoised_pkl_dataset\\\\0\\\\RawDataQA (19).pkl',\n",
       " 'D:/VIP Cup/Output dataset/denoised_pkl_dataset\\\\0\\\\RawDataQA (3).pkl',\n",
       " 'D:/VIP Cup/Output dataset/denoised_pkl_dataset\\\\0\\\\RawDataQA (26).pkl',\n",
       " 'D:/VIP Cup/Output dataset/denoised_pkl_dataset\\\\0\\\\RawDataQA (28).pkl',\n",
       " 'D:/VIP Cup/Output dataset/denoised_pkl_dataset\\\\0\\\\RawDataQA (16).pkl',\n",
       " 'D:/VIP Cup/Output dataset/denoised_pkl_dataset\\\\0\\\\RawDataQA (22).pkl',\n",
       " 'D:/VIP Cup/Output dataset/denoised_pkl_dataset\\\\0\\\\RawDataQA (35).pkl',\n",
       " 'D:/VIP Cup/Output dataset/denoised_pkl_dataset\\\\0\\\\RawDataQA (6).pkl',\n",
       " 'D:/VIP Cup/Output dataset/denoised_pkl_dataset\\\\1\\\\RawDataQA-1 (8).pkl',\n",
       " 'D:/VIP Cup/Output dataset/denoised_pkl_dataset\\\\1\\\\RawDataQA-1 (4).pkl',\n",
       " 'D:/VIP Cup/Output dataset/denoised_pkl_dataset\\\\1\\\\RawDataQA-1 (20).pkl',\n",
       " 'D:/VIP Cup/Output dataset/denoised_pkl_dataset\\\\1\\\\RawDataQA-1 (1).pkl',\n",
       " 'D:/VIP Cup/Output dataset/denoised_pkl_dataset\\\\1\\\\RawDataQA-1 (13).pkl',\n",
       " 'D:/VIP Cup/Output dataset/denoised_pkl_dataset\\\\1\\\\RawDataQA-1 (24).pkl',\n",
       " 'D:/VIP Cup/Output dataset/denoised_pkl_dataset\\\\1\\\\RawDataQA-1 (14).pkl',\n",
       " 'D:/VIP Cup/Output dataset/denoised_pkl_dataset\\\\1\\\\RawDataQA-1 (21).pkl',\n",
       " 'D:/VIP Cup/Output dataset/denoised_pkl_dataset\\\\1\\\\RawDataQA-1 (2).pkl',\n",
       " 'D:/VIP Cup/Output dataset/denoised_pkl_dataset\\\\1\\\\RawDataQA-1 (3).pkl',\n",
       " 'D:/VIP Cup/Output dataset/denoised_pkl_dataset\\\\1\\\\RawDataQA-1 (10).pkl',\n",
       " 'D:/VIP Cup/Output dataset/denoised_pkl_dataset\\\\1\\\\RawDataQA-1 (11).pkl',\n",
       " 'D:/VIP Cup/Output dataset/denoised_pkl_dataset\\\\1\\\\RawDataQA-1 (5).pkl',\n",
       " 'D:/VIP Cup/Output dataset/denoised_pkl_dataset\\\\1\\\\RawDataQA-1 (12).pkl',\n",
       " 'D:/VIP Cup/Output dataset/denoised_pkl_dataset\\\\1\\\\RawDataQA-1 (29).pkl',\n",
       " 'D:/VIP Cup/Output dataset/denoised_pkl_dataset\\\\1\\\\RawDataQA-1 (6).pkl',\n",
       " 'D:/VIP Cup/Output dataset/denoised_pkl_dataset\\\\1\\\\RawDataQA-1 (26).pkl',\n",
       " 'D:/VIP Cup/Output dataset/denoised_pkl_dataset\\\\1\\\\RawDataQA-1 (9).pkl',\n",
       " 'D:/VIP Cup/Output dataset/denoised_pkl_dataset\\\\1\\\\RawDataQA-1 (28).pkl',\n",
       " 'D:/VIP Cup/Output dataset/denoised_pkl_dataset\\\\1\\\\RawDataQA-1 (16).pkl',\n",
       " 'D:/VIP Cup/Output dataset/denoised_pkl_dataset\\\\1\\\\RawDataQA-1 (19).pkl',\n",
       " 'D:/VIP Cup/Output dataset/denoised_pkl_dataset\\\\1\\\\RawDataQA-1 (22).pkl',\n",
       " 'D:/VIP Cup/Output dataset/denoised_pkl_dataset\\\\1\\\\RawDataQA-1 (27).pkl',\n",
       " 'D:/VIP Cup/Output dataset/denoised_pkl_dataset\\\\1\\\\RawDataQA-1 (15).pkl',\n",
       " 'D:/VIP Cup/Output dataset/denoised_pkl_dataset\\\\2\\\\RawDataQA-2 (20).pkl',\n",
       " 'D:/VIP Cup/Output dataset/denoised_pkl_dataset\\\\2\\\\RawDataQA-2 (25).pkl',\n",
       " 'D:/VIP Cup/Output dataset/denoised_pkl_dataset\\\\2\\\\RawDataQA-2 (4).pkl',\n",
       " 'D:/VIP Cup/Output dataset/denoised_pkl_dataset\\\\2\\\\RawDataQA-2 (2).pkl',\n",
       " 'D:/VIP Cup/Output dataset/denoised_pkl_dataset\\\\2\\\\RawDataQA-2 (21).pkl',\n",
       " 'D:/VIP Cup/Output dataset/denoised_pkl_dataset\\\\2\\\\RawDataQA-2 (23).pkl',\n",
       " 'D:/VIP Cup/Output dataset/denoised_pkl_dataset\\\\2\\\\RawDataQA-2 (10).pkl',\n",
       " 'D:/VIP Cup/Output dataset/denoised_pkl_dataset\\\\2\\\\RawDataQA-2 (13).pkl',\n",
       " 'D:/VIP Cup/Output dataset/denoised_pkl_dataset\\\\2\\\\RawDataQA-2 (14).pkl',\n",
       " 'D:/VIP Cup/Output dataset/denoised_pkl_dataset\\\\2\\\\RawDataQA-2 (11).pkl',\n",
       " 'D:/VIP Cup/Output dataset/denoised_pkl_dataset\\\\2\\\\RawDataQA-2 (24).pkl',\n",
       " 'D:/VIP Cup/Output dataset/denoised_pkl_dataset\\\\2\\\\RawDataQA-2 (5).pkl',\n",
       " 'D:/VIP Cup/Output dataset/denoised_pkl_dataset\\\\2\\\\RawDataQA-2 (12).pkl',\n",
       " 'D:/VIP Cup/Output dataset/denoised_pkl_dataset\\\\2\\\\RawDataQA-2 (8).pkl',\n",
       " 'D:/VIP Cup/Output dataset/denoised_pkl_dataset\\\\2\\\\RawDataQA-2 (6).pkl',\n",
       " 'D:/VIP Cup/Output dataset/denoised_pkl_dataset\\\\2\\\\RawDataQA-2 (26).pkl',\n",
       " 'D:/VIP Cup/Output dataset/denoised_pkl_dataset\\\\2\\\\RawDataQA-2 (9).pkl',\n",
       " 'D:/VIP Cup/Output dataset/denoised_pkl_dataset\\\\2\\\\RawDataQA-2 (28).pkl',\n",
       " 'D:/VIP Cup/Output dataset/denoised_pkl_dataset\\\\2\\\\RawDataQA-2 (16).pkl',\n",
       " 'D:/VIP Cup/Output dataset/denoised_pkl_dataset\\\\2\\\\RawDataQA-2 (19).pkl',\n",
       " 'D:/VIP Cup/Output dataset/denoised_pkl_dataset\\\\2\\\\RawDataQA-2 (22).pkl',\n",
       " 'D:/VIP Cup/Output dataset/denoised_pkl_dataset\\\\2\\\\RawDataQA-2 (27).pkl',\n",
       " 'D:/VIP Cup/Output dataset/denoised_pkl_dataset\\\\2\\\\RawDataQA-2 (15).pkl']"
      ]
     },
     "execution_count": 8,
     "metadata": {},
     "output_type": "execute_result"
    }
   ],
   "source": [
    "train_dataset_path"
   ]
  },
  {
   "cell_type": "code",
   "execution_count": 9,
   "metadata": {},
   "outputs": [
    {
     "data": {
      "text/plain": [
       "['D:/VIP Cup/Output dataset/denoised_pkl_dataset\\\\0\\\\RawDataQA (32).pkl',\n",
       " 'D:/VIP Cup/Output dataset/denoised_pkl_dataset\\\\0\\\\RawDataQA (21).pkl',\n",
       " 'D:/VIP Cup/Output dataset/denoised_pkl_dataset\\\\0\\\\RawDataQA (17).pkl',\n",
       " 'D:/VIP Cup/Output dataset/denoised_pkl_dataset\\\\0\\\\RawDataQA (33).pkl',\n",
       " 'D:/VIP Cup/Output dataset/denoised_pkl_dataset\\\\0\\\\RawDataQA (13).pkl',\n",
       " 'D:/VIP Cup/Output dataset/denoised_pkl_dataset\\\\0\\\\RawDataQA (7).pkl',\n",
       " 'D:/VIP Cup/Output dataset/denoised_pkl_dataset\\\\0\\\\RawDataQA (27).pkl',\n",
       " 'D:/VIP Cup/Output dataset/denoised_pkl_dataset\\\\0\\\\RawDataQA (36).pkl',\n",
       " 'D:/VIP Cup/Output dataset/denoised_pkl_dataset\\\\1\\\\RawDataQA-1 (7).pkl',\n",
       " 'D:/VIP Cup/Output dataset/denoised_pkl_dataset\\\\1\\\\RawDataQA-1 (23).pkl',\n",
       " 'D:/VIP Cup/Output dataset/denoised_pkl_dataset\\\\1\\\\RawDataQA-1 (30).pkl',\n",
       " 'D:/VIP Cup/Output dataset/denoised_pkl_dataset\\\\1\\\\RawDataQA-1 (25).pkl',\n",
       " 'D:/VIP Cup/Output dataset/denoised_pkl_dataset\\\\1\\\\RawDataQA-1 (17).pkl',\n",
       " 'D:/VIP Cup/Output dataset/denoised_pkl_dataset\\\\1\\\\RawDataQA-1 (18).pkl',\n",
       " 'D:/VIP Cup/Output dataset/denoised_pkl_dataset\\\\2\\\\RawDataQA-2 (18).pkl',\n",
       " 'D:/VIP Cup/Output dataset/denoised_pkl_dataset\\\\2\\\\RawDataQA-2 (7).pkl',\n",
       " 'D:/VIP Cup/Output dataset/denoised_pkl_dataset\\\\2\\\\RawDataQA-2 (17).pkl',\n",
       " 'D:/VIP Cup/Output dataset/denoised_pkl_dataset\\\\2\\\\RawDataQA-2 (3).pkl',\n",
       " 'D:/VIP Cup/Output dataset/denoised_pkl_dataset\\\\2\\\\RawDataQA-2 (1).pkl']"
      ]
     },
     "execution_count": 9,
     "metadata": {},
     "output_type": "execute_result"
    }
   ],
   "source": [
    "test_dataset_path"
   ]
  },
  {
   "cell_type": "markdown",
   "metadata": {},
   "source": [
    "Creating the volumetric dataset"
   ]
  },
  {
   "cell_type": "code",
   "execution_count": 10,
   "metadata": {},
   "outputs": [],
   "source": [
    "def create_vol_datasets(dataset):\n",
    "    \"\"\"load pickle files as a numpy array associated with their labels and return them as a dataset\"\"\"\n",
    "    \n",
    "    dataset_list = []\n",
    "    for path in dataset:\n",
    "        vol_oct = open_pickle(path)\n",
    "        label = os.path.basename(os.path.dirname(path))\n",
    "        dataset_list.append((vol_oct, label))\n",
    "    return dataset_list"
   ]
  },
  {
   "cell_type": "code",
   "execution_count": 14,
   "metadata": {},
   "outputs": [],
   "source": [
    "train_vol_dataset = create_vol_datasets(train_dataset_path)\n",
    "test_vol_dataset = create_vol_datasets(test_dataset_path)"
   ]
  },
  {
   "cell_type": "code",
   "execution_count": 15,
   "metadata": {},
   "outputs": [
    {
     "data": {
      "text/plain": [
       "(81, 19)"
      ]
     },
     "execution_count": 15,
     "metadata": {},
     "output_type": "execute_result"
    }
   ],
   "source": [
    "len(train_vol_dataset), len(test_vol_dataset)"
   ]
  },
  {
   "cell_type": "markdown",
   "metadata": {},
   "source": [
    "Creating 2D sclices of dataset from "
   ]
  },
  {
   "cell_type": "code",
   "execution_count": 16,
   "metadata": {},
   "outputs": [],
   "source": [
    "def create_2D_dataset(vol_dataset):\n",
    "    \"\"\"create a 2D dataset from the 3D dataset\"\"\"\n",
    "    \n",
    "    dataset_2D = []\n",
    "    for vol_oct, label in vol_dataset:\n",
    "        m = vol_oct.shape[2]\n",
    "        for i in range(m):\n",
    "            dataset_2D.append((vol_oct[:,:,i], label))\n",
    "    return dataset_2D"
   ]
  },
  {
   "cell_type": "code",
   "execution_count": 17,
   "metadata": {},
   "outputs": [],
   "source": [
    "train_dataset = create_2D_dataset(train_vol_dataset)\n",
    "test_dataset = create_2D_dataset(test_vol_dataset)\n"
   ]
  },
  {
   "cell_type": "code",
   "execution_count": 18,
   "metadata": {},
   "outputs": [
    {
     "name": "stdout",
     "output_type": "stream",
     "text": [
      "Number of training samples: 14698\n",
      "Number of testing samples: 3340\n",
      "Number of total samples: 18038\n",
      "Ratio of the testing dataset size to the total dataset size: 0.1852\n",
      "Sample shape of the training data: (300, 300)\n"
     ]
    }
   ],
   "source": [
    "training_cases = len(train_dataset)\n",
    "testing_cases = len(test_dataset)\n",
    "total_cases = training_cases + testing_cases\n",
    "test_ratio = testing_cases / total_cases\n",
    "\n",
    "print(f\"Number of training samples: {training_cases}\")\n",
    "print(f\"Number of testing samples: {testing_cases}\")\n",
    "print(f\"Number of total samples: {total_cases}\")\n",
    "print(f\"Ratio of the testing dataset size to the total dataset size: {test_ratio:.4f}\")\n",
    "print(f\"Sample shape of the training data: {train_dataset[0][0].shape}\")"
   ]
  },
  {
   "cell_type": "markdown",
   "metadata": {},
   "source": [
    "Class Names"
   ]
  },
  {
   "cell_type": "code",
   "execution_count": 19,
   "metadata": {},
   "outputs": [
    {
     "data": {
      "text/plain": [
       "['0', '1', '2']"
      ]
     },
     "execution_count": 19,
     "metadata": {},
     "output_type": "execute_result"
    }
   ],
   "source": [
    "classes"
   ]
  },
  {
   "cell_type": "code",
   "execution_count": 20,
   "metadata": {},
   "outputs": [
    {
     "data": {
      "text/plain": [
       "{'0': 'Normal', '1': 'Diabetes', '2': 'non-Diabetes'}"
      ]
     },
     "execution_count": 20,
     "metadata": {},
     "output_type": "execute_result"
    }
   ],
   "source": [
    "class_names = {classes[0]: \"Normal\", classes[1]: \"Diabetes\", classes[2]: \"non-Diabetes\"}\n",
    "class_names"
   ]
  },
  {
   "cell_type": "markdown",
   "metadata": {},
   "source": [
    "We are intending to use ResNet-34 for the classification task. We will use the pre-trained model."
   ]
  },
  {
   "cell_type": "markdown",
   "metadata": {},
   "source": [
    "Creating the transforms"
   ]
  },
  {
   "cell_type": "code",
   "execution_count": 21,
   "metadata": {},
   "outputs": [
    {
     "data": {
      "text/plain": [
       "ResNet18_Weights.IMAGENET1K_V1"
      ]
     },
     "execution_count": 21,
     "metadata": {},
     "output_type": "execute_result"
    }
   ],
   "source": [
    "#Get a set of pretrained model weights\n",
    "\n",
    "# Get the weights\n",
    "weights = torchvision.models.ResNet18_Weights.DEFAULT  \n",
    "weights "
   ]
  },
  {
   "cell_type": "code",
   "execution_count": 22,
   "metadata": {},
   "outputs": [
    {
     "data": {
      "text/plain": [
       "ImageClassification(\n",
       "    crop_size=[224]\n",
       "    resize_size=[256]\n",
       "    mean=[0.485, 0.456, 0.406]\n",
       "    std=[0.229, 0.224, 0.225]\n",
       "    interpolation=InterpolationMode.BILINEAR\n",
       ")"
      ]
     },
     "execution_count": 22,
     "metadata": {},
     "output_type": "execute_result"
    }
   ],
   "source": [
    "auto_transforms = weights.transforms()\n",
    "auto_transforms"
   ]
  },
  {
   "cell_type": "markdown",
   "metadata": {},
   "source": [
    "Create manual transforms to include the RGB conversion also"
   ]
  },
  {
   "cell_type": "code",
   "execution_count": 23,
   "metadata": {},
   "outputs": [],
   "source": [
    "from PIL import Image\n",
    "import numpy as np\n",
    "import cv2\n",
    "import torch\n",
    "import torchvision.transforms as transforms\n",
    "from torchvision.transforms.functional import InterpolationMode\n",
    "\n",
    "class GrayscaleToRGB:\n",
    "    def __call__(self, image):\n",
    "        if image.ndim == 2:  # Grayscale image\n",
    "            # Scale float values to [0, 255] and convert to uint8\n",
    "            img = (image * 255).astype(np.uint8)\n",
    "            # Stack to create a 3-channel RGB image\n",
    "            img = np.stack((img,) * 3, axis=-1)\n",
    "            img2 = Image.fromarray(img)\n",
    "        else:  # RGB image\n",
    "            # Scale float values to [0, 255] and convert to uint8\n",
    "            img = (image * 255).astype(np.uint8)\n",
    "            img2 = Image.fromarray(img)\n",
    "        return img2\n",
    "\n",
    "crop_size = 300\n",
    "resize_size = 224\n",
    "mean = [0.485, 0.456, 0.406]\n",
    "std = [0.229, 0.224, 0.225]\n",
    "interpolation = InterpolationMode.BILINEAR\n",
    "\n",
    "final_transform = transforms.Compose([\n",
    "    GrayscaleToRGB(),\n",
    "    #transforms.CenterCrop(crop_size),\n",
    "    transforms.Resize(resize_size, interpolation=interpolation),\n",
    "    transforms.ToTensor(),\n",
    "    transforms.Normalize(mean, std)\n",
    "])"
   ]
  },
  {
   "cell_type": "markdown",
   "metadata": {},
   "source": [
    "testing"
   ]
  },
  {
   "cell_type": "code",
   "execution_count": 24,
   "metadata": {},
   "outputs": [
    {
     "data": {
      "text/plain": [
       "tensor([[[-0.5424, -0.4226, -0.3541,  ..., -0.4054, -0.4911, -0.4054],\n",
       "         [-0.5424, -0.4226, -0.3369,  ..., -0.4054, -0.4911, -0.4054],\n",
       "         [-0.5253, -0.4226, -0.3369,  ..., -0.3883, -0.4568, -0.3883],\n",
       "         ...,\n",
       "         [ 0.0227, -0.0458, -0.0116,  ...,  0.1426,  0.0912,  0.1254],\n",
       "         [ 0.0398, -0.0458,  0.0056,  ...,  0.1426,  0.1083,  0.1254],\n",
       "         [ 0.0569, -0.0116,  0.0398,  ...,  0.1426,  0.1254,  0.1254]],\n",
       "\n",
       "        [[-0.4251, -0.3025, -0.2325,  ..., -0.2850, -0.3725, -0.2850],\n",
       "         [-0.4251, -0.3025, -0.2150,  ..., -0.2850, -0.3725, -0.2850],\n",
       "         [-0.4076, -0.3025, -0.2150,  ..., -0.2675, -0.3375, -0.2675],\n",
       "         ...,\n",
       "         [ 0.1527,  0.0826,  0.1176,  ...,  0.2752,  0.2227,  0.2577],\n",
       "         [ 0.1702,  0.0826,  0.1352,  ...,  0.2752,  0.2402,  0.2577],\n",
       "         [ 0.1877,  0.1176,  0.1702,  ...,  0.2752,  0.2577,  0.2577]],\n",
       "\n",
       "        [[-0.2010, -0.0790, -0.0092,  ..., -0.0615, -0.1487, -0.0615],\n",
       "         [-0.2010, -0.0790,  0.0082,  ..., -0.0615, -0.1487, -0.0615],\n",
       "         [-0.1835, -0.0790,  0.0082,  ..., -0.0441, -0.1138, -0.0441],\n",
       "         ...,\n",
       "         [ 0.3742,  0.3045,  0.3393,  ...,  0.4962,  0.4439,  0.4788],\n",
       "         [ 0.3916,  0.3045,  0.3568,  ...,  0.4962,  0.4614,  0.4788],\n",
       "         [ 0.4091,  0.3393,  0.3916,  ...,  0.4962,  0.4788,  0.4788]]])"
      ]
     },
     "execution_count": 24,
     "metadata": {},
     "output_type": "execute_result"
    }
   ],
   "source": [
    "#`sample` is a numpy array representing a grayscale image\n",
    "sample = train_dataset[0][0]\n",
    "\n",
    "# Apply the final transformation\n",
    "a = final_transform(sample)\n",
    "a"
   ]
  },
  {
   "cell_type": "code",
   "execution_count": 25,
   "metadata": {},
   "outputs": [
    {
     "data": {
      "text/plain": [
       "torch.Size([3, 224, 224])"
      ]
     },
     "execution_count": 25,
     "metadata": {},
     "output_type": "execute_result"
    }
   ],
   "source": [
    "a.shape"
   ]
  },
  {
   "cell_type": "code",
   "execution_count": 92,
   "metadata": {},
   "outputs": [
    {
     "data": {
      "text/plain": [
       "<matplotlib.image.AxesImage at 0x21ad1066c90>"
      ]
     },
     "execution_count": 92,
     "metadata": {},
     "output_type": "execute_result"
    },
    {
     "data": {
      "image/png": "[encoded data removed]",
      "text/plain": [
       "<Figure size 640x480 with 1 Axes>"
      ]
     },
     "metadata": {},
     "output_type": "display_data"
    }
   ],
   "source": [
    "plt.imshow(a[2,:,:], cmap='gray')"
   ]
  },
  {
   "cell_type": "code",
   "execution_count": 27,
   "metadata": {},
   "outputs": [
    {
     "data": {
      "text/plain": [
       "(array([[0.3602106 , 0.36963236, 0.40482548, ..., 0.36588416, 0.38754609,\n",
       "         0.39784697],\n",
       "        [0.36010915, 0.36944386, 0.40498698, ..., 0.36151809, 0.38983473,\n",
       "         0.39774218],\n",
       "        [0.36048073, 0.37109655, 0.40413761, ..., 0.360349  , 0.39183092,\n",
       "         0.39884546],\n",
       "        ...,\n",
       "        [0.50629044, 0.4697457 , 0.48424375, ..., 0.51213938, 0.51351953,\n",
       "         0.51544142],\n",
       "        [0.51053566, 0.47276598, 0.48769131, ..., 0.51471663, 0.51600945,\n",
       "         0.51488155],\n",
       "        [0.51183861, 0.47449845, 0.49121377, ..., 0.51666921, 0.51870942,\n",
       "         0.51389706]]),\n",
       " '0')"
      ]
     },
     "execution_count": 27,
     "metadata": {},
     "output_type": "execute_result"
    }
   ],
   "source": [
    "train_dataset[0]"
   ]
  },
  {
   "cell_type": "code",
   "execution_count": 28,
   "metadata": {},
   "outputs": [
    {
     "data": {
      "text/plain": [
       "((300, 300), '0')"
      ]
     },
     "execution_count": 28,
     "metadata": {},
     "output_type": "execute_result"
    }
   ],
   "source": [
    "train_dataset[0][0].shape, train_dataset[0][1]"
   ]
  },
  {
   "cell_type": "markdown",
   "metadata": {},
   "source": [
    "Creating datasetss and applying transforms"
   ]
  },
  {
   "cell_type": "code",
   "execution_count": 29,
   "metadata": {},
   "outputs": [],
   "source": [
    "def one_hot_encode(label, num_classes):\n",
    "    torch_label = torch.tensor(int(label))\n",
    "    return torch.nn.functional.one_hot(torch_label, num_classes).float()\n"
   ]
  },
  {
   "cell_type": "code",
   "execution_count": 30,
   "metadata": {},
   "outputs": [],
   "source": [
    "def create_preprocessed_datasets(dataset, dataset_name:str):\n",
    "    \"\"\"create datasets using the CustomDataset class\"\"\"\n",
    "\n",
    "    data, targets = [], []\n",
    "    num_classes = len(classes)\n",
    "\n",
    "    for i in range(len(dataset)):\n",
    "        data_array = dataset[i][0]\n",
    "        transformed_data = final_transform(data_array)\n",
    "        data.append(transformed_data)\n",
    "\n",
    "        target = dataset[i][1]\n",
    "        label = one_hot_encode(label=target, num_classes=num_classes)\n",
    "        targets.append(label)\n",
    "\n",
    "    print(f\"Number of {dataset_name} samples: {len(data)}\")\n",
    "    print(f\"Number of {dataset_name} targets: {len(targets)}\")\n",
    "    print(f\"Number of {dataset_name} datapoints in input list: {len(dataset)}\")\n",
    "    print(f\"Sample of {dataset_name} data: {data[0]}\")\n",
    "    print(f\"Sample of {dataset_name} data shape:{data[0].shape}\")\n",
    "    print(f\"Sample of {dataset_name} target: {targets[0]}\")\n",
    "    print(f\"Sample of {dataset_name} target shape: {targets[0].shape}\")\n",
    "\n",
    "    return data, targets"
   ]
  },
  {
   "cell_type": "markdown",
   "metadata": {},
   "source": [
    "Creating train and test datasets"
   ]
  },
  {
   "cell_type": "code",
   "execution_count": 31,
   "metadata": {},
   "outputs": [
    {
     "name": "stdout",
     "output_type": "stream",
     "text": [
      "Number of training dataset samples: 14698\n",
      "Number of training dataset targets: 14698\n",
      "Number of training dataset datapoints in input list: 14698\n",
      "Sample of training dataset data: tensor([[[-0.5424, -0.4226, -0.3541,  ..., -0.4054, -0.4911, -0.4054],\n",
      "         [-0.5424, -0.4226, -0.3369,  ..., -0.4054, -0.4911, -0.4054],\n",
      "         [-0.5253, -0.4226, -0.3369,  ..., -0.3883, -0.4568, -0.3883],\n",
      "         ...,\n",
      "         [ 0.0227, -0.0458, -0.0116,  ...,  0.1426,  0.0912,  0.1254],\n",
      "         [ 0.0398, -0.0458,  0.0056,  ...,  0.1426,  0.1083,  0.1254],\n",
      "         [ 0.0569, -0.0116,  0.0398,  ...,  0.1426,  0.1254,  0.1254]],\n",
      "\n",
      "        [[-0.4251, -0.3025, -0.2325,  ..., -0.2850, -0.3725, -0.2850],\n",
      "         [-0.4251, -0.3025, -0.2150,  ..., -0.2850, -0.3725, -0.2850],\n",
      "         [-0.4076, -0.3025, -0.2150,  ..., -0.2675, -0.3375, -0.2675],\n",
      "         ...,\n",
      "         [ 0.1527,  0.0826,  0.1176,  ...,  0.2752,  0.2227,  0.2577],\n",
      "         [ 0.1702,  0.0826,  0.1352,  ...,  0.2752,  0.2402,  0.2577],\n",
      "         [ 0.1877,  0.1176,  0.1702,  ...,  0.2752,  0.2577,  0.2577]],\n",
      "\n",
      "        [[-0.2010, -0.0790, -0.0092,  ..., -0.0615, -0.1487, -0.0615],\n",
      "         [-0.2010, -0.0790,  0.0082,  ..., -0.0615, -0.1487, -0.0615],\n",
      "         [-0.1835, -0.0790,  0.0082,  ..., -0.0441, -0.1138, -0.0441],\n",
      "         ...,\n",
      "         [ 0.3742,  0.3045,  0.3393,  ...,  0.4962,  0.4439,  0.4788],\n",
      "         [ 0.3916,  0.3045,  0.3568,  ...,  0.4962,  0.4614,  0.4788],\n",
      "         [ 0.4091,  0.3393,  0.3916,  ...,  0.4962,  0.4788,  0.4788]]])\n",
      "Sample of training dataset data shape:torch.Size([3, 224, 224])\n",
      "Sample of training dataset target: tensor([1., 0., 0.])\n",
      "Sample of training dataset target shape: torch.Size([3])\n",
      "Number of testing dataset samples: 3340\n",
      "Number of testing dataset targets: 3340\n",
      "Number of testing dataset datapoints in input list: 3340\n",
      "Sample of testing dataset data: tensor([[[-0.3369, -0.3198, -0.3198,  ..., -0.3541, -0.3541, -0.3541],\n",
      "         [-0.3369, -0.3198, -0.3198,  ..., -0.3541, -0.3541, -0.3541],\n",
      "         [-0.3369, -0.3198, -0.3369,  ..., -0.3541, -0.3541, -0.3541],\n",
      "         ...,\n",
      "         [-0.6109, -0.5938, -0.5938,  ..., -0.5767, -0.5767, -0.5767],\n",
      "         [-0.6109, -0.5938, -0.5938,  ..., -0.5767, -0.5767, -0.5767],\n",
      "         [-0.6109, -0.5938, -0.5938,  ..., -0.5767, -0.5767, -0.5767]],\n",
      "\n",
      "        [[-0.2150, -0.1975, -0.1975,  ..., -0.2325, -0.2325, -0.2325],\n",
      "         [-0.2150, -0.1975, -0.1975,  ..., -0.2325, -0.2325, -0.2325],\n",
      "         [-0.2150, -0.1975, -0.2150,  ..., -0.2325, -0.2325, -0.2325],\n",
      "         ...,\n",
      "         [-0.4951, -0.4776, -0.4776,  ..., -0.4601, -0.4601, -0.4601],\n",
      "         [-0.4951, -0.4776, -0.4776,  ..., -0.4601, -0.4601, -0.4601],\n",
      "         [-0.4951, -0.4776, -0.4776,  ..., -0.4601, -0.4601, -0.4601]],\n",
      "\n",
      "        [[ 0.0082,  0.0256,  0.0256,  ..., -0.0092, -0.0092, -0.0092],\n",
      "         [ 0.0082,  0.0256,  0.0256,  ..., -0.0092, -0.0092, -0.0092],\n",
      "         [ 0.0082,  0.0256,  0.0082,  ..., -0.0092, -0.0092, -0.0092],\n",
      "         ...,\n",
      "         [-0.2707, -0.2532, -0.2532,  ..., -0.2358, -0.2358, -0.2358],\n",
      "         [-0.2707, -0.2532, -0.2532,  ..., -0.2358, -0.2358, -0.2358],\n",
      "         [-0.2707, -0.2532, -0.2532,  ..., -0.2358, -0.2358, -0.2358]]])\n",
      "Sample of testing dataset data shape:torch.Size([3, 224, 224])\n",
      "Sample of testing dataset target: tensor([1., 0., 0.])\n",
      "Sample of testing dataset target shape: torch.Size([3])\n"
     ]
    }
   ],
   "source": [
    "train_data, train_targets = create_preprocessed_datasets(train_dataset, \"training dataset\")\n",
    "test_data, test_targets = create_preprocessed_datasets(test_dataset, \"testing dataset\")"
   ]
  },
  {
   "cell_type": "markdown",
   "metadata": {},
   "source": [
    "Creating custom datasets"
   ]
  },
  {
   "cell_type": "code",
   "execution_count": 32,
   "metadata": {},
   "outputs": [],
   "source": [
    "from torch.utils.data import TensorDataset\n",
    "\n",
    "def create_dataset(data_tensor, target_tensor):\n",
    "    dataset = TensorDataset(data_tensor, target_tensor)\n",
    "    return dataset"
   ]
  },
  {
   "cell_type": "code",
   "execution_count": 33,
   "metadata": {},
   "outputs": [
    {
     "name": "stdout",
     "output_type": "stream",
     "text": [
      "train_data_tensor shape: torch.Size([14698, 3, 224, 224])\n",
      "train_targets_tensor shape: torch.Size([14698, 3])\n",
      "test_data_tensor shape: torch.Size([3340, 3, 224, 224])\n",
      "test_targets_tensor shape: torch.Size([3340, 3])\n"
     ]
    }
   ],
   "source": [
    "# Step 1: Convert lists to tensors\n",
    "train_data_tensor = torch.stack(train_data)\n",
    "print(f\"train_data_tensor shape: {train_data_tensor.shape}\")\n",
    "\n",
    "train_targets_tensor = torch.stack(train_targets)\n",
    "print(f\"train_targets_tensor shape: {train_targets_tensor.shape}\")\n",
    "\n",
    "test_data_tensor = torch.stack(test_data)\n",
    "print(f\"test_data_tensor shape: {test_data_tensor.shape}\")\n",
    "\n",
    "test_targets_tensor = torch.stack(test_targets)\n",
    "print(f\"test_targets_tensor shape: {test_targets_tensor.shape}\")"
   ]
  },
  {
   "cell_type": "code",
   "execution_count": 34,
   "metadata": {},
   "outputs": [],
   "source": [
    "train_dataset =  create_dataset(train_data_tensor, train_targets_tensor)\n",
    "test_dataset = create_dataset(test_data_tensor, test_targets_tensor)"
   ]
  },
  {
   "cell_type": "code",
   "execution_count": 35,
   "metadata": {},
   "outputs": [
    {
     "data": {
      "text/plain": [
       "(<torch.utils.data.dataset.TensorDataset at 0x218f62012d0>,\n",
       " <torch.utils.data.dataset.TensorDataset at 0x21865f7be10>)"
      ]
     },
     "execution_count": 35,
     "metadata": {},
     "output_type": "execute_result"
    }
   ],
   "source": [
    "train_dataset, test_dataset"
   ]
  },
  {
   "cell_type": "markdown",
   "metadata": {},
   "source": [
    "Creating DataLoaders"
   ]
  },
  {
   "cell_type": "code",
   "execution_count": 36,
   "metadata": {},
   "outputs": [],
   "source": [
    "import os\n",
    "from torchvision import datasets, transforms \n",
    "from torch.utils.data import DataLoader\n",
    "\n",
    "NUM_WORKERS = os.cpu_count()\n",
    "\n",
    "def create_dataloaders(\n",
    "    train_dataset,\n",
    "    test_dataset, \n",
    "    batch_size,\n",
    "    num_workers=0\n",
    "):\n",
    "    # Create DataLoaders\n",
    "    train_dataloader = DataLoader(\n",
    "        dataset=train_dataset,\n",
    "        batch_size=batch_size,\n",
    "        shuffle= True,\n",
    "        num_workers = num_workers,\n",
    "        pin_memory = True\n",
    "    )\n",
    "\n",
    "    test_dataloader = DataLoader(\n",
    "        dataset=test_dataset,\n",
    "        batch_size=batch_size,\n",
    "        shuffle= False,\n",
    "        num_workers = num_workers,\n",
    "        pin_memory = True\n",
    "    )\n",
    "\n",
    "    return train_dataloader, test_dataloader"
   ]
  },
  {
   "cell_type": "code",
   "execution_count": 37,
   "metadata": {},
   "outputs": [
    {
     "data": {
      "text/plain": [
       "(<torch.utils.data.dataloader.DataLoader at 0x218f625f650>,\n",
       " <torch.utils.data.dataloader.DataLoader at 0x21866205790>)"
      ]
     },
     "execution_count": 37,
     "metadata": {},
     "output_type": "execute_result"
    }
   ],
   "source": [
    "train_dataloader, test_dataloader = create_dataloaders(train_dataset=train_dataset, \n",
    "                                                      test_dataset=test_dataset, \n",
    "                                                      batch_size=32)\n",
    "train_dataloader, test_dataloader"
   ]
  },
  {
   "cell_type": "markdown",
   "metadata": {},
   "source": [
    "Iterating through dataloaders"
   ]
  },
  {
   "cell_type": "code",
   "execution_count": 38,
   "metadata": {},
   "outputs": [
    {
     "name": "stdout",
     "output_type": "stream",
     "text": [
      "Shape of the first element in X_batch: torch.Size([32, 3, 224, 224])\n",
      "Shape of the first element in y_batch: torch.Size([32, 3])\n"
     ]
    }
   ],
   "source": [
    "for X_batch, y_batch in train_dataloader:\n",
    "    print(\"Shape of the first element in X_batch:\", X_batch.shape)\n",
    "    print(\"Shape of the first element in y_batch:\", y_batch.shape)\n",
    "    break  # Just to print the first batch and stop"
   ]
  },
  {
   "cell_type": "markdown",
   "metadata": {},
   "source": [
    "Getting pre-trained model"
   ]
  },
  {
   "cell_type": "code",
   "execution_count": 39,
   "metadata": {},
   "outputs": [
    {
     "name": "stderr",
     "output_type": "stream",
     "text": [
      "Downloading: \"https://download.pytorch.org/models/resnet18-f37072fd.pth\" to C:\\Users\\ASUS/.cache\\torch\\hub\\checkpoints\\resnet18-f37072fd.pth\n",
      "100%|██████████| 44.7M/44.7M [00:42<00:00, 1.10MB/s]\n"
     ]
    }
   ],
   "source": [
    "#ResNet-101 model\n",
    "weights = torchvision.models.ResNet18_Weights.DEFAULT\n",
    "model = torchvision.models.resnet18(weights=weights).to(device)"
   ]
  },
  {
   "cell_type": "code",
   "execution_count": 41,
   "metadata": {},
   "outputs": [
    {
     "data": {
      "text/plain": [
       "========================================================================================================================\n",
       "Layer (type (var_name))                  Input Shape          Output Shape         Param #              Trainable\n",
       "========================================================================================================================\n",
       "ResNet (ResNet)                          [32, 3, 224, 224]    [32, 1000]           --                   True\n",
       "├─Conv2d (conv1)                         [32, 3, 224, 224]    [32, 64, 112, 112]   9,408                True\n",
       "├─BatchNorm2d (bn1)                      [32, 64, 112, 112]   [32, 64, 112, 112]   128                  True\n",
       "├─ReLU (relu)                            [32, 64, 112, 112]   [32, 64, 112, 112]   --                   --\n",
       "├─MaxPool2d (maxpool)                    [32, 64, 112, 112]   [32, 64, 56, 56]     --                   --\n",
       "├─Sequential (layer1)                    [32, 64, 56, 56]     [32, 64, 56, 56]     --                   True\n",
       "│    └─BasicBlock (0)                    [32, 64, 56, 56]     [32, 64, 56, 56]     --                   True\n",
       "│    │    └─Conv2d (conv1)               [32, 64, 56, 56]     [32, 64, 56, 56]     36,864               True\n",
       "│    │    └─BatchNorm2d (bn1)            [32, 64, 56, 56]     [32, 64, 56, 56]     128                  True\n",
       "│    │    └─ReLU (relu)                  [32, 64, 56, 56]     [32, 64, 56, 56]     --                   --\n",
       "│    │    └─Conv2d (conv2)               [32, 64, 56, 56]     [32, 64, 56, 56]     36,864               True\n",
       "│    │    └─BatchNorm2d (bn2)            [32, 64, 56, 56]     [32, 64, 56, 56]     128                  True\n",
       "│    │    └─ReLU (relu)                  [32, 64, 56, 56]     [32, 64, 56, 56]     --                   --\n",
       "│    └─BasicBlock (1)                    [32, 64, 56, 56]     [32, 64, 56, 56]     --                   True\n",
       "│    │    └─Conv2d (conv1)               [32, 64, 56, 56]     [32, 64, 56, 56]     36,864               True\n",
       "│    │    └─BatchNorm2d (bn1)            [32, 64, 56, 56]     [32, 64, 56, 56]     128                  True\n",
       "│    │    └─ReLU (relu)                  [32, 64, 56, 56]     [32, 64, 56, 56]     --                   --\n",
       "│    │    └─Conv2d (conv2)               [32, 64, 56, 56]     [32, 64, 56, 56]     36,864               True\n",
       "│    │    └─BatchNorm2d (bn2)            [32, 64, 56, 56]     [32, 64, 56, 56]     128                  True\n",
       "│    │    └─ReLU (relu)                  [32, 64, 56, 56]     [32, 64, 56, 56]     --                   --\n",
       "├─Sequential (layer2)                    [32, 64, 56, 56]     [32, 128, 28, 28]    --                   True\n",
       "│    └─BasicBlock (0)                    [32, 64, 56, 56]     [32, 128, 28, 28]    --                   True\n",
       "│    │    └─Conv2d (conv1)               [32, 64, 56, 56]     [32, 128, 28, 28]    73,728               True\n",
       "│    │    └─BatchNorm2d (bn1)            [32, 128, 28, 28]    [32, 128, 28, 28]    256                  True\n",
       "│    │    └─ReLU (relu)                  [32, 128, 28, 28]    [32, 128, 28, 28]    --                   --\n",
       "│    │    └─Conv2d (conv2)               [32, 128, 28, 28]    [32, 128, 28, 28]    147,456              True\n",
       "│    │    └─BatchNorm2d (bn2)            [32, 128, 28, 28]    [32, 128, 28, 28]    256                  True\n",
       "│    │    └─Sequential (downsample)      [32, 64, 56, 56]     [32, 128, 28, 28]    8,448                True\n",
       "│    │    └─ReLU (relu)                  [32, 128, 28, 28]    [32, 128, 28, 28]    --                   --\n",
       "│    └─BasicBlock (1)                    [32, 128, 28, 28]    [32, 128, 28, 28]    --                   True\n",
       "│    │    └─Conv2d (conv1)               [32, 128, 28, 28]    [32, 128, 28, 28]    147,456              True\n",
       "│    │    └─BatchNorm2d (bn1)            [32, 128, 28, 28]    [32, 128, 28, 28]    256                  True\n",
       "│    │    └─ReLU (relu)                  [32, 128, 28, 28]    [32, 128, 28, 28]    --                   --\n",
       "│    │    └─Conv2d (conv2)               [32, 128, 28, 28]    [32, 128, 28, 28]    147,456              True\n",
       "│    │    └─BatchNorm2d (bn2)            [32, 128, 28, 28]    [32, 128, 28, 28]    256                  True\n",
       "│    │    └─ReLU (relu)                  [32, 128, 28, 28]    [32, 128, 28, 28]    --                   --\n",
       "├─Sequential (layer3)                    [32, 128, 28, 28]    [32, 256, 14, 14]    --                   True\n",
       "│    └─BasicBlock (0)                    [32, 128, 28, 28]    [32, 256, 14, 14]    --                   True\n",
       "│    │    └─Conv2d (conv1)               [32, 128, 28, 28]    [32, 256, 14, 14]    294,912              True\n",
       "│    │    └─BatchNorm2d (bn1)            [32, 256, 14, 14]    [32, 256, 14, 14]    512                  True\n",
       "│    │    └─ReLU (relu)                  [32, 256, 14, 14]    [32, 256, 14, 14]    --                   --\n",
       "│    │    └─Conv2d (conv2)               [32, 256, 14, 14]    [32, 256, 14, 14]    589,824              True\n",
       "│    │    └─BatchNorm2d (bn2)            [32, 256, 14, 14]    [32, 256, 14, 14]    512                  True\n",
       "│    │    └─Sequential (downsample)      [32, 128, 28, 28]    [32, 256, 14, 14]    33,280               True\n",
       "│    │    └─ReLU (relu)                  [32, 256, 14, 14]    [32, 256, 14, 14]    --                   --\n",
       "│    └─BasicBlock (1)                    [32, 256, 14, 14]    [32, 256, 14, 14]    --                   True\n",
       "│    │    └─Conv2d (conv1)               [32, 256, 14, 14]    [32, 256, 14, 14]    589,824              True\n",
       "│    │    └─BatchNorm2d (bn1)            [32, 256, 14, 14]    [32, 256, 14, 14]    512                  True\n",
       "│    │    └─ReLU (relu)                  [32, 256, 14, 14]    [32, 256, 14, 14]    --                   --\n",
       "│    │    └─Conv2d (conv2)               [32, 256, 14, 14]    [32, 256, 14, 14]    589,824              True\n",
       "│    │    └─BatchNorm2d (bn2)            [32, 256, 14, 14]    [32, 256, 14, 14]    512                  True\n",
       "│    │    └─ReLU (relu)                  [32, 256, 14, 14]    [32, 256, 14, 14]    --                   --\n",
       "├─Sequential (layer4)                    [32, 256, 14, 14]    [32, 512, 7, 7]      --                   True\n",
       "│    └─BasicBlock (0)                    [32, 256, 14, 14]    [32, 512, 7, 7]      --                   True\n",
       "│    │    └─Conv2d (conv1)               [32, 256, 14, 14]    [32, 512, 7, 7]      1,179,648            True\n",
       "│    │    └─BatchNorm2d (bn1)            [32, 512, 7, 7]      [32, 512, 7, 7]      1,024                True\n",
       "│    │    └─ReLU (relu)                  [32, 512, 7, 7]      [32, 512, 7, 7]      --                   --\n",
       "│    │    └─Conv2d (conv2)               [32, 512, 7, 7]      [32, 512, 7, 7]      2,359,296            True\n",
       "│    │    └─BatchNorm2d (bn2)            [32, 512, 7, 7]      [32, 512, 7, 7]      1,024                True\n",
       "│    │    └─Sequential (downsample)      [32, 256, 14, 14]    [32, 512, 7, 7]      132,096              True\n",
       "│    │    └─ReLU (relu)                  [32, 512, 7, 7]      [32, 512, 7, 7]      --                   --\n",
       "│    └─BasicBlock (1)                    [32, 512, 7, 7]      [32, 512, 7, 7]      --                   True\n",
       "│    │    └─Conv2d (conv1)               [32, 512, 7, 7]      [32, 512, 7, 7]      2,359,296            True\n",
       "│    │    └─BatchNorm2d (bn1)            [32, 512, 7, 7]      [32, 512, 7, 7]      1,024                True\n",
       "│    │    └─ReLU (relu)                  [32, 512, 7, 7]      [32, 512, 7, 7]      --                   --\n",
       "│    │    └─Conv2d (conv2)               [32, 512, 7, 7]      [32, 512, 7, 7]      2,359,296            True\n",
       "│    │    └─BatchNorm2d (bn2)            [32, 512, 7, 7]      [32, 512, 7, 7]      1,024                True\n",
       "│    │    └─ReLU (relu)                  [32, 512, 7, 7]      [32, 512, 7, 7]      --                   --\n",
       "├─AdaptiveAvgPool2d (avgpool)            [32, 512, 7, 7]      [32, 512, 1, 1]      --                   --\n",
       "├─Linear (fc)                            [32, 512]            [32, 1000]           513,000              True\n",
       "========================================================================================================================\n",
       "Total params: 11,689,512\n",
       "Trainable params: 11,689,512\n",
       "Non-trainable params: 0\n",
       "Total mult-adds (Units.GIGABYTES): 58.05\n",
       "========================================================================================================================\n",
       "Input size (MB): 19.27\n",
       "Forward/backward pass size (MB): 1271.92\n",
       "Params size (MB): 46.76\n",
       "Estimated Total Size (MB): 1337.94\n",
       "========================================================================================================================"
      ]
     },
     "execution_count": 41,
     "metadata": {},
     "output_type": "execute_result"
    }
   ],
   "source": [
    "#Summary of  the ResNet-101\n",
    "summary(model=model, \n",
    "        input_size=(32, 3, 224, 224), # make sure this is \"input_size\", not \"input_shape\"\n",
    "        col_names=[\"input_size\", \"output_size\", \"num_params\", \"trainable\"],\n",
    "        col_width=20,\n",
    "        row_settings=[\"var_names\"]\n",
    ") "
   ]
  },
  {
   "cell_type": "code",
   "execution_count": 42,
   "metadata": {},
   "outputs": [
    {
     "data": {
      "text/plain": [
       "Linear(in_features=512, out_features=1000, bias=True)"
      ]
     },
     "execution_count": 42,
     "metadata": {},
     "output_type": "execute_result"
    }
   ],
   "source": [
    "model.fc"
   ]
  },
  {
   "cell_type": "markdown",
   "metadata": {},
   "source": [
    "Freezing feature layers and creating new classifier layer"
   ]
  },
  {
   "cell_type": "code",
   "execution_count": 66,
   "metadata": {},
   "outputs": [],
   "source": [
    "#freeze all layers\n",
    "for param in model.parameters():\n",
    "    param.requires_grad = False\n",
    "\n",
    "#Replacing final fully connected layer\n",
    "model.fc = torch.nn.Sequential(\n",
    "    nn.Dropout(p=0.2),\n",
    "    nn.Linear(in_features=512, out_features=32),\n",
    "    nn.ReLU(),\n",
    "    nn.Dropout(p=0.5),\n",
    "    nn.Linear(in_features=32, out_features=3),\n",
    "    nn.Softmax()\n",
    ")\n",
    "\n",
    "#unfreeze final fully connected layer\n",
    "for param in model.fc.parameters():\n",
    "    param.requires_grad = True\n",
    "\n",
    "#unfreeze the last 2 layers\n",
    "for param in model.layer4.parameters():\n",
    "    param.requires_grad = True"
   ]
  },
  {
   "cell_type": "markdown",
   "metadata": {},
   "source": [
    "Model Summary"
   ]
  },
  {
   "cell_type": "code",
   "execution_count": 68,
   "metadata": {},
   "outputs": [
    {
     "data": {
      "text/plain": [
       "========================================================================================================================\n",
       "Layer (type (var_name))                  Input Shape          Output Shape         Param #              Trainable\n",
       "========================================================================================================================\n",
       "ResNet (ResNet)                          [32, 3, 224, 224]    [32, 3]              --                   Partial\n",
       "├─Conv2d (conv1)                         [32, 3, 224, 224]    [32, 64, 112, 112]   (9,408)              False\n",
       "├─BatchNorm2d (bn1)                      [32, 64, 112, 112]   [32, 64, 112, 112]   (128)                False\n",
       "├─ReLU (relu)                            [32, 64, 112, 112]   [32, 64, 112, 112]   --                   --\n",
       "├─MaxPool2d (maxpool)                    [32, 64, 112, 112]   [32, 64, 56, 56]     --                   --\n",
       "├─Sequential (layer1)                    [32, 64, 56, 56]     [32, 64, 56, 56]     --                   False\n",
       "│    └─BasicBlock (0)                    [32, 64, 56, 56]     [32, 64, 56, 56]     --                   False\n",
       "│    │    └─Conv2d (conv1)               [32, 64, 56, 56]     [32, 64, 56, 56]     (36,864)             False\n",
       "│    │    └─BatchNorm2d (bn1)            [32, 64, 56, 56]     [32, 64, 56, 56]     (128)                False\n",
       "│    │    └─ReLU (relu)                  [32, 64, 56, 56]     [32, 64, 56, 56]     --                   --\n",
       "│    │    └─Conv2d (conv2)               [32, 64, 56, 56]     [32, 64, 56, 56]     (36,864)             False\n",
       "│    │    └─BatchNorm2d (bn2)            [32, 64, 56, 56]     [32, 64, 56, 56]     (128)                False\n",
       "│    │    └─ReLU (relu)                  [32, 64, 56, 56]     [32, 64, 56, 56]     --                   --\n",
       "│    └─BasicBlock (1)                    [32, 64, 56, 56]     [32, 64, 56, 56]     --                   False\n",
       "│    │    └─Conv2d (conv1)               [32, 64, 56, 56]     [32, 64, 56, 56]     (36,864)             False\n",
       "│    │    └─BatchNorm2d (bn1)            [32, 64, 56, 56]     [32, 64, 56, 56]     (128)                False\n",
       "│    │    └─ReLU (relu)                  [32, 64, 56, 56]     [32, 64, 56, 56]     --                   --\n",
       "│    │    └─Conv2d (conv2)               [32, 64, 56, 56]     [32, 64, 56, 56]     (36,864)             False\n",
       "│    │    └─BatchNorm2d (bn2)            [32, 64, 56, 56]     [32, 64, 56, 56]     (128)                False\n",
       "│    │    └─ReLU (relu)                  [32, 64, 56, 56]     [32, 64, 56, 56]     --                   --\n",
       "├─Sequential (layer2)                    [32, 64, 56, 56]     [32, 128, 28, 28]    --                   False\n",
       "│    └─BasicBlock (0)                    [32, 64, 56, 56]     [32, 128, 28, 28]    --                   False\n",
       "│    │    └─Conv2d (conv1)               [32, 64, 56, 56]     [32, 128, 28, 28]    (73,728)             False\n",
       "│    │    └─BatchNorm2d (bn1)            [32, 128, 28, 28]    [32, 128, 28, 28]    (256)                False\n",
       "│    │    └─ReLU (relu)                  [32, 128, 28, 28]    [32, 128, 28, 28]    --                   --\n",
       "│    │    └─Conv2d (conv2)               [32, 128, 28, 28]    [32, 128, 28, 28]    (147,456)            False\n",
       "│    │    └─BatchNorm2d (bn2)            [32, 128, 28, 28]    [32, 128, 28, 28]    (256)                False\n",
       "│    │    └─Sequential (downsample)      [32, 64, 56, 56]     [32, 128, 28, 28]    (8,448)              False\n",
       "│    │    └─ReLU (relu)                  [32, 128, 28, 28]    [32, 128, 28, 28]    --                   --\n",
       "│    └─BasicBlock (1)                    [32, 128, 28, 28]    [32, 128, 28, 28]    --                   False\n",
       "│    │    └─Conv2d (conv1)               [32, 128, 28, 28]    [32, 128, 28, 28]    (147,456)            False\n",
       "│    │    └─BatchNorm2d (bn1)            [32, 128, 28, 28]    [32, 128, 28, 28]    (256)                False\n",
       "│    │    └─ReLU (relu)                  [32, 128, 28, 28]    [32, 128, 28, 28]    --                   --\n",
       "│    │    └─Conv2d (conv2)               [32, 128, 28, 28]    [32, 128, 28, 28]    (147,456)            False\n",
       "│    │    └─BatchNorm2d (bn2)            [32, 128, 28, 28]    [32, 128, 28, 28]    (256)                False\n",
       "│    │    └─ReLU (relu)                  [32, 128, 28, 28]    [32, 128, 28, 28]    --                   --\n",
       "├─Sequential (layer3)                    [32, 128, 28, 28]    [32, 256, 14, 14]    --                   False\n",
       "│    └─BasicBlock (0)                    [32, 128, 28, 28]    [32, 256, 14, 14]    --                   False\n",
       "│    │    └─Conv2d (conv1)               [32, 128, 28, 28]    [32, 256, 14, 14]    (294,912)            False\n",
       "│    │    └─BatchNorm2d (bn1)            [32, 256, 14, 14]    [32, 256, 14, 14]    (512)                False\n",
       "│    │    └─ReLU (relu)                  [32, 256, 14, 14]    [32, 256, 14, 14]    --                   --\n",
       "│    │    └─Conv2d (conv2)               [32, 256, 14, 14]    [32, 256, 14, 14]    (589,824)            False\n",
       "│    │    └─BatchNorm2d (bn2)            [32, 256, 14, 14]    [32, 256, 14, 14]    (512)                False\n",
       "│    │    └─Sequential (downsample)      [32, 128, 28, 28]    [32, 256, 14, 14]    (33,280)             False\n",
       "│    │    └─ReLU (relu)                  [32, 256, 14, 14]    [32, 256, 14, 14]    --                   --\n",
       "│    └─BasicBlock (1)                    [32, 256, 14, 14]    [32, 256, 14, 14]    --                   False\n",
       "│    │    └─Conv2d (conv1)               [32, 256, 14, 14]    [32, 256, 14, 14]    (589,824)            False\n",
       "│    │    └─BatchNorm2d (bn1)            [32, 256, 14, 14]    [32, 256, 14, 14]    (512)                False\n",
       "│    │    └─ReLU (relu)                  [32, 256, 14, 14]    [32, 256, 14, 14]    --                   --\n",
       "│    │    └─Conv2d (conv2)               [32, 256, 14, 14]    [32, 256, 14, 14]    (589,824)            False\n",
       "│    │    └─BatchNorm2d (bn2)            [32, 256, 14, 14]    [32, 256, 14, 14]    (512)                False\n",
       "│    │    └─ReLU (relu)                  [32, 256, 14, 14]    [32, 256, 14, 14]    --                   --\n",
       "├─Sequential (layer4)                    [32, 256, 14, 14]    [32, 512, 7, 7]      --                   True\n",
       "│    └─BasicBlock (0)                    [32, 256, 14, 14]    [32, 512, 7, 7]      --                   True\n",
       "│    │    └─Conv2d (conv1)               [32, 256, 14, 14]    [32, 512, 7, 7]      1,179,648            True\n",
       "│    │    └─BatchNorm2d (bn1)            [32, 512, 7, 7]      [32, 512, 7, 7]      1,024                True\n",
       "│    │    └─ReLU (relu)                  [32, 512, 7, 7]      [32, 512, 7, 7]      --                   --\n",
       "│    │    └─Conv2d (conv2)               [32, 512, 7, 7]      [32, 512, 7, 7]      2,359,296            True\n",
       "│    │    └─BatchNorm2d (bn2)            [32, 512, 7, 7]      [32, 512, 7, 7]      1,024                True\n",
       "│    │    └─Sequential (downsample)      [32, 256, 14, 14]    [32, 512, 7, 7]      132,096              True\n",
       "│    │    └─ReLU (relu)                  [32, 512, 7, 7]      [32, 512, 7, 7]      --                   --\n",
       "│    └─BasicBlock (1)                    [32, 512, 7, 7]      [32, 512, 7, 7]      --                   True\n",
       "│    │    └─Conv2d (conv1)               [32, 512, 7, 7]      [32, 512, 7, 7]      2,359,296            True\n",
       "│    │    └─BatchNorm2d (bn1)            [32, 512, 7, 7]      [32, 512, 7, 7]      1,024                True\n",
       "│    │    └─ReLU (relu)                  [32, 512, 7, 7]      [32, 512, 7, 7]      --                   --\n",
       "│    │    └─Conv2d (conv2)               [32, 512, 7, 7]      [32, 512, 7, 7]      2,359,296            True\n",
       "│    │    └─BatchNorm2d (bn2)            [32, 512, 7, 7]      [32, 512, 7, 7]      1,024                True\n",
       "│    │    └─ReLU (relu)                  [32, 512, 7, 7]      [32, 512, 7, 7]      --                   --\n",
       "├─AdaptiveAvgPool2d (avgpool)            [32, 512, 7, 7]      [32, 512, 1, 1]      --                   --\n",
       "├─Sequential (fc)                        [32, 512]            [32, 3]              --                   True\n",
       "│    └─Dropout (0)                       [32, 512]            [32, 512]            --                   --\n",
       "│    └─Linear (1)                        [32, 512]            [32, 32]             16,416               True\n",
       "│    └─ReLU (2)                          [32, 32]             [32, 32]             --                   --\n",
       "│    └─Dropout (3)                       [32, 32]             [32, 32]             --                   --\n",
       "│    └─Linear (4)                        [32, 32]             [32, 3]              99                   True\n",
       "│    └─Softmax (5)                       [32, 3]              [32, 3]              --                   --\n",
       "========================================================================================================================\n",
       "Total params: 11,193,027\n",
       "Trainable params: 8,410,243\n",
       "Non-trainable params: 2,782,784\n",
       "Total mult-adds (Units.GIGABYTES): 58.03\n",
       "========================================================================================================================\n",
       "Input size (MB): 19.27\n",
       "Forward/backward pass size (MB): 1271.67\n",
       "Params size (MB): 44.77\n",
       "Estimated Total Size (MB): 1335.71\n",
       "========================================================================================================================"
      ]
     },
     "execution_count": 68,
     "metadata": {},
     "output_type": "execute_result"
    }
   ],
   "source": [
    "#Summary of  the ResNet-101\n",
    "summary(model=model, \n",
    "        input_size=(32, 3, 224, 224), # make sure this is \"input_size\", not \"input_shape\"\n",
    "        col_names=[\"input_size\", \"output_size\", \"num_params\", \"trainable\"],\n",
    "        col_width=20,\n",
    "        row_settings=[\"var_names\"]\n",
    ") "
   ]
  },
  {
   "cell_type": "markdown",
   "metadata": {},
   "source": [
    "Accuracy function"
   ]
  },
  {
   "cell_type": "code",
   "execution_count": 69,
   "metadata": {},
   "outputs": [],
   "source": [
    "import torchmetrics\n",
    "import torchmetrics.classification\n",
    "\n",
    "TASK = 'multiclass'\n",
    "NUM_CLASSES = 3\n",
    "\n",
    "device = \"cuda\" if torch.cuda.is_available() else \"cpu\"\n",
    "\n",
    "def accuracy(y_true, y_pred):\n",
    "    accuracy = torchmetrics.Accuracy(task = TASK, num_classes=NUM_CLASSES).to(device)\n",
    "    return accuracy(y_pred, y_true)\n",
    "\n",
    "def precision(y_true, y_pred):\n",
    "    precision = torchmetrics.Precision(task = TASK, num_classes=NUM_CLASSES).to(device)\n",
    "    return precision(y_pred, y_true)\n",
    "\n",
    "def sensitivity(y_true, y_pred):\n",
    "    sensitivity = torchmetrics.Recall(task = TASK, num_classes=NUM_CLASSES).to(device)\n",
    "    return sensitivity(y_pred, y_true)\n",
    "\n",
    "def specificity(y_true, y_pred):\n",
    "    specificity = torchmetrics.Specificity(task = TASK, num_classes=NUM_CLASSES).to(device)\n",
    "    return specificity(y_pred, y_true)\n",
    "\n",
    "def f_score(y_true, y_pred):\n",
    "    f_scaore = torchmetrics.F1Score(task = TASK, num_classes=NUM_CLASSES).to(device)\n",
    "    return f_score(y_pred, y_true)"
   ]
  },
  {
   "cell_type": "markdown",
   "metadata": {},
   "source": [
    "Train Model"
   ]
  },
  {
   "cell_type": "code",
   "execution_count": 70,
   "metadata": {},
   "outputs": [],
   "source": [
    "#define accuracy, loss and optimizer\n",
    "loss_fn = nn.CrossEntropyLoss()\n",
    "optimizer = torch.optim.Adam(model.parameters(), lr=0.001)"
   ]
  },
  {
   "cell_type": "markdown",
   "metadata": {},
   "source": [
    "Testing Purposes..\n"
   ]
  },
  {
   "cell_type": "code",
   "execution_count": 71,
   "metadata": {},
   "outputs": [],
   "source": [
    "def train_step(model: torch.nn.Module,\n",
    "               dataloader: torch.utils.data.DataLoader,\n",
    "               loss_fn: torch.nn.Module,\n",
    "               optimizer: torch.optim.Optimizer,\n",
    "               device: torch.device):\n",
    "    \n",
    "    \"\"\"Train a PyTorch model for one epoch\"\"\"\n",
    "\n",
    "    #training\n",
    "    model.train()\n",
    "\n",
    "    train_loss, train_accuracy = 0, 0\n",
    "\n",
    "    #iterate over batches\n",
    "    for X_batch, y_batch in dataloader:\n",
    "        X_batch, y_batch = X_batch.to(device), (y_batch).to(device)\n",
    "\n",
    "        #forward pass\n",
    "        y_pred = model(X_batch)\n",
    "        loss = loss_fn(y_pred, y_batch)\n",
    "\n",
    "        #backward pass\n",
    "        optimizer.zero_grad()\n",
    "        loss.backward()\n",
    "        optimizer.step()\n",
    "\n",
    "        #calculate training loss\n",
    "        train_loss += loss.item()\n",
    "\n",
    "        #calculate training accuracy\n",
    "        train_accuracy += accuracy(y_batch.to(torch.int), y_pred)\n",
    "\n",
    "    train_loss /= len(dataloader)\n",
    "    train_accuracy /= len(dataloader)\n",
    "\n",
    "    return train_loss, train_accuracy"
   ]
  },
  {
   "cell_type": "code",
   "execution_count": 72,
   "metadata": {},
   "outputs": [],
   "source": [
    "def test_step(model:torch.nn.Module,\n",
    "              dataloader: torch.utils.data.DataLoader,\n",
    "              loss_fn: torch.nn.Module,\n",
    "              device: torch.device):\n",
    "    \n",
    "    \"\"\"Test a PyTorch model for one epoch\"\"\"\n",
    "\n",
    "    #evaluation\n",
    "    model.eval()\n",
    "\n",
    "    test_loss, test_accuracy = 0, 0\n",
    "\n",
    "    #disable gradient computation\n",
    "    with torch.inference_mode():\n",
    "        for X_batch, y_batch in dataloader:\n",
    "            X_batch, y_batch = X_batch.to(device), y_batch.to(device)\n",
    "\n",
    "            #forward pass\n",
    "            test_preds = model(X_batch)\n",
    "\n",
    "            loss = loss_fn(test_preds, y_batch)\n",
    "            test_loss += loss.item()\n",
    "\n",
    "            #calculate test accuracy\n",
    "            test_accuracy += accuracy(y_batch.to(torch.int), test_preds)\n",
    "            \n",
    "        \n",
    "        test_loss /= len(dataloader)\n",
    "        test_accuracy /= len(dataloader)\n",
    "\n",
    "    return test_loss, test_accuracy"
   ]
  },
  {
   "cell_type": "code",
   "execution_count": 73,
   "metadata": {},
   "outputs": [],
   "source": [
    "import torch\n",
    "\n",
    "from tqdm.auto import tqdm\n",
    "from typing import Dict, List, Tuple\n",
    "\n",
    "def train(model: torch.nn.Module,\n",
    "          train_dataloader: torch.utils.data.DataLoader,\n",
    "          test_dataloader: torch.utils.data.DataLoader,\n",
    "          loss_fn: torch.nn.Module,\n",
    "          optimizer: torch.optim.Optimizer,\n",
    "          device: torch.device,\n",
    "          epochs: int):\n",
    "    \n",
    "    \"\"\"Train a PyTorch model\"\"\"\n",
    "\n",
    "    #Create empty results dictionary\n",
    "    results = {\n",
    "        \"train_loss\": [],\n",
    "        \"train_accuracy\": [],\n",
    "        \"test_loss\": [],\n",
    "        \"test_accuracy\": []\n",
    "    }\n",
    "\n",
    "    #loop throug trainning and testing epochs\n",
    "    for epoch in tqdm(range(epochs)):\n",
    "        #train step\n",
    "        train_loss, train_accuracy = train_step(model, train_dataloader, loss_fn, optimizer, device)\n",
    "        results[\"train_loss\"].append(train_loss)\n",
    "        results[\"train_accuracy\"].append(train_accuracy)\n",
    "\n",
    "        #test step\n",
    "        test_loss, test_accuracy = test_step(model, test_dataloader, loss_fn, device)\n",
    "        results[\"test_loss\"].append(test_loss)\n",
    "        results[\"test_accuracy\"].append(test_accuracy)\n",
    "\n",
    "        print(f\"Epoch: {epoch+1}/{epochs}, train_loss: {train_loss:.4f}, train_accuracy: {train_accuracy:.4f}, test_loss: {test_loss:.4f}, test_accuracy: {test_accuracy:.4f}\")\n",
    "\n",
    "    return results\n",
    "    "
   ]
  },
  {
   "cell_type": "code",
   "execution_count": 75,
   "metadata": {},
   "outputs": [
    {
     "data": {
      "application/vnd.jupyter.widget-view+json": {
       "model_id": "3e271cdc641f430582f5d00c259f3c7a",
       "version_major": 2,
       "version_minor": 0
      },
      "text/plain": [
       "  0%|          | 0/20 [00:00<?, ?it/s]"
      ]
     },
     "metadata": {},
     "output_type": "display_data"
    },
    {
     "name": "stderr",
     "output_type": "stream",
     "text": [
      "c:\\Users\\ASUS\\AppData\\Local\\Programs\\Python\\Python311\\Lib\\site-packages\\torch\\nn\\modules\\module.py:1532: UserWarning: Implicit dimension choice for softmax has been deprecated. Change the call to include dim=X as an argument.\n",
      "  return self._call_impl(*args, **kwargs)\n"
     ]
    },
    {
     "name": "stdout",
     "output_type": "stream",
     "text": [
      "Epoch: 1/20, train_loss: 0.5529, train_accuracy: 0.9993, test_loss: 0.7423, test_accuracy: 0.8686\n",
      "Epoch: 2/20, train_loss: 0.5539, train_accuracy: 0.9985, test_loss: 0.7613, test_accuracy: 0.8569\n",
      "Epoch: 3/20, train_loss: 0.5532, train_accuracy: 0.9990, test_loss: 0.7775, test_accuracy: 0.8459\n",
      "Epoch: 4/20, train_loss: 0.5531, train_accuracy: 0.9993, test_loss: 0.7901, test_accuracy: 0.8378\n",
      "Epoch: 5/20, train_loss: 0.5540, train_accuracy: 0.9987, test_loss: 0.7818, test_accuracy: 0.8432\n",
      "Epoch: 6/20, train_loss: 0.5529, train_accuracy: 0.9992, test_loss: 0.8149, test_accuracy: 0.8201\n",
      "Epoch: 7/20, train_loss: 0.5527, train_accuracy: 0.9993, test_loss: 0.7897, test_accuracy: 0.8370\n",
      "Epoch: 8/20, train_loss: 0.5519, train_accuracy: 0.9998, test_loss: 0.7744, test_accuracy: 0.8480\n",
      "Epoch: 9/20, train_loss: 0.5530, train_accuracy: 0.9990, test_loss: 0.7705, test_accuracy: 0.8529\n",
      "Epoch: 10/20, train_loss: 0.5530, train_accuracy: 0.9990, test_loss: 0.7631, test_accuracy: 0.8563\n",
      "Epoch: 11/20, train_loss: 0.5531, train_accuracy: 0.9992, test_loss: 0.8278, test_accuracy: 0.8138\n",
      "Epoch: 12/20, train_loss: 0.5543, train_accuracy: 0.9984, test_loss: 0.8032, test_accuracy: 0.8304\n",
      "Epoch: 13/20, train_loss: 0.5536, train_accuracy: 0.9988, test_loss: 0.7961, test_accuracy: 0.8329\n",
      "Epoch: 14/20, train_loss: 0.5534, train_accuracy: 0.9986, test_loss: 0.7897, test_accuracy: 0.8380\n",
      "Epoch: 15/20, train_loss: 0.5528, train_accuracy: 0.9992, test_loss: 0.8226, test_accuracy: 0.8155\n",
      "Epoch: 16/20, train_loss: 0.5534, train_accuracy: 0.9987, test_loss: 0.7785, test_accuracy: 0.8468\n",
      "Epoch: 17/20, train_loss: 0.5535, train_accuracy: 0.9987, test_loss: 0.7900, test_accuracy: 0.8383\n",
      "Epoch: 18/20, train_loss: 0.5525, train_accuracy: 0.9993, test_loss: 0.8036, test_accuracy: 0.8283\n",
      "Epoch: 19/20, train_loss: 0.5519, train_accuracy: 0.9996, test_loss: 0.7973, test_accuracy: 0.8343\n",
      "Epoch: 20/20, train_loss: 0.5539, train_accuracy: 0.9984, test_loss: 0.8033, test_accuracy: 0.8305\n",
      "Execution time: 704.6106667999993\n"
     ]
    }
   ],
   "source": [
    "#Set the random seed for reproducibility\n",
    "torch.manual_seed(42)\n",
    "torch.cuda.manual_seed(42)\n",
    "\n",
    "# Start the timer\n",
    "from timeit import default_timer as timer \n",
    "start_time = timer()\n",
    "\n",
    "#setup training and save the results\n",
    "results = train(model= model,\n",
    "                train_dataloader= train_dataloader,\n",
    "                test_dataloader= test_dataloader,\n",
    "                loss_fn= loss_fn,\n",
    "                optimizer= optimizer,\n",
    "                device= device,\n",
    "                epochs= 20)\n",
    "\n",
    "# End the timer\n",
    "end_time = timer()\n",
    "execution_time = end_time - start_time\n",
    "print(f\"Execution time: {execution_time}\")"
   ]
  },
  {
   "cell_type": "markdown",
   "metadata": {},
   "source": [
    "Evaluating the model"
   ]
  },
  {
   "cell_type": "code",
   "execution_count": 78,
   "metadata": {},
   "outputs": [],
   "source": [
    "import torch\n",
    "import matplotlib.pyplot as plt\n",
    "\n",
    "def plot_loss_curves(results):\n",
    "    \"\"\"\n",
    "    Plots the loss curves of the training and test datasets.\n",
    "    \"\"\"\n",
    "    loss = results[\"train_loss\"]\n",
    "    test_loss = results[\"test_loss\"]\n",
    "    accuracy = torch.tensor(results[\"train_accuracy\"]).cpu()  # Convert to tensor and move to CPU\n",
    "    test_accuracy = torch.tensor(results[\"test_accuracy\"]).cpu()  # Convert to tensor and move to CPU\n",
    "    \n",
    "    epochs = range(len(results[\"train_loss\"]))\n",
    "\n",
    "    plt.figure(figsize=(12, 6))\n",
    "    plt.subplot(1, 2, 1)\n",
    "    plt.plot(epochs, loss, label=\"training_loss\")\n",
    "    plt.plot(epochs, test_loss, label=\"test_loss\")\n",
    "    plt.title(\"Loss vs. Epochs\")\n",
    "    plt.xlabel(\"Epochs\")\n",
    "    plt.ylabel(\"Loss\")\n",
    "    plt.legend()\n",
    "\n",
    "    plt.subplot(1, 2, 2)\n",
    "    plt.plot(epochs, accuracy, label=\"training_accuracy\")\n",
    "    plt.plot(epochs, test_accuracy, label=\"test_accuracy\")\n",
    "    plt.title(\"Accuracy vs. Epochs\")\n",
    "    plt.xlabel(\"Epochs\")\n",
    "    plt.ylabel(\"Accuracy\")\n",
    "    plt.legend()\n",
    "\n",
    "    plt.show()\n"
   ]
  },
  {
   "cell_type": "code",
   "execution_count": 79,
   "metadata": {},
   "outputs": [
    {
     "data": {
      "image/png": "[encoded data removed]",
      "text/plain": [
       "<Figure size 1200x600 with 2 Axes>"
      ]
     },
     "metadata": {},
     "output_type": "display_data"
    }
   ],
   "source": [
    "plot_loss_curves(results)"
   ]
  },
  {
   "cell_type": "markdown",
   "metadata": {},
   "source": [
    "Predict the case"
   ]
  },
  {
   "cell_type": "code",
   "execution_count": 126,
   "metadata": {},
   "outputs": [],
   "source": [
    "def predict_single_oct(model, image, device):\n",
    "    \"\"\"\n",
    "    Predict the class of a single image.\n",
    "    \"\"\"\n",
    "    # Add a batch dimension\n",
    "    image = image.unsqueeze(0)\n",
    "    # Make predictions\n",
    "    model.eval()\n",
    "    with torch.no_grad():\n",
    "        image = image.to(device)\n",
    "        preds = model(image)\n",
    "    # Get the predicted class\n",
    "    pred_class = classes[torch.argmax(preds, axis=1).item()]\n",
    "    return pred_class"
   ]
  },
  {
   "cell_type": "code",
   "execution_count": 137,
   "metadata": {},
   "outputs": [],
   "source": [
    "def predict_vol_image(vol_image_path: str,\n",
    "                         model: torch.nn.Module,\n",
    "                         device: torch.device):\n",
    "    \"\"\"\n",
    "    Load an images from a .pkl file path and convert it to a tensor.\n",
    "    \"\"\"\n",
    "    vol_image = open_pickle(vol_image_path)\n",
    "    case_class = os.path.basename(os.path.dirname(vol_image_path))\n",
    "    predicted_classes_of_2d_octs = []\n",
    "    depth = vol_image.shape[2]\n",
    "    for i in range(depth):\n",
    "        oct_2d = vol_image[:,:,i]\n",
    "        transformed = final_transform(oct_2d)\n",
    "        predicted_class = predict_single_oct(model, transformed, device)\n",
    "        predicted_classes_of_2d_octs.append(predicted_class)\n",
    "        \n",
    "        #print(transformed.shape)\n",
    "        #print(transformed)\n",
    "        #print(f\"Predicted class: {predicted_class}\")\n",
    "\n",
    "    predicted_case_class = max(set(predicted_classes_of_2d_octs), key = predicted_classes_of_2d_octs.count)\n",
    "    predicted_correctly = (case_class==predicted_case_class)\n",
    "\n",
    "    if predicted_correctly:\n",
    "        print(f\"Volumetric OCT at {vol_image_path} predicted correctly.\")\n",
    "    else:\n",
    "        print(f\"Volumetric OCT at {vol_image_path} predicted incorrectly.\")\n",
    "\n",
    "    return case_class, predicted_case_class\n",
    "        \n",
    "        "
   ]
  },
  {
   "cell_type": "code",
   "execution_count": 138,
   "metadata": {},
   "outputs": [],
   "source": [
    "def accuracy_eval_results(y_true: list, y_predict: list):\n",
    "    \"\"\"calculates accuracy\"\"\"\n",
    "    y_true_array = np.array(y_true)\n",
    "    y_predict_array = np.array(y_predict)\n",
    "\n",
    "    if len(y_true_array) == len(y_predict_array):\n",
    "        n = len(y_true_array)\n",
    "    else:\n",
    "        raise Exception(\"lengths of the 2 input arrays are different!\")\n",
    "    \n",
    "    correct_predictions = np.sum((y_true_array==y_predict_array)*1)\n",
    "    accuracy_eval = correct_predictions/n\n",
    "\n",
    "    return accuracy_eval"
   ]
  },
  {
   "cell_type": "markdown",
   "metadata": {},
   "source": [
    "Iterate through test dataset"
   ]
  },
  {
   "cell_type": "code",
   "execution_count": 141,
   "metadata": {},
   "outputs": [],
   "source": [
    "def eval_test_dataset(test_vol_dataset_list: list,\n",
    "                         model: torch.nn.Module,\n",
    "                         device: torch.device):\n",
    "    \n",
    "    case_classes = []\n",
    "    predicted_case_classes = []\n",
    "    \n",
    "    \"\"\"Predict the results for the all teesst dataset\"\"\"\n",
    "    for case in test_vol_dataset_list:\n",
    "        class_true, class_predict = predict_vol_image(vol_image_path=case, model=model, device=device)\n",
    "        case_classes.append(class_true)\n",
    "        predicted_case_classes.append(class_predict)\n",
    "\n",
    "    eval_results = {\n",
    "        \"true classes\": case_classes,\n",
    "        \"predicted classes\": predicted_case_classes\n",
    "    }\n",
    "\n",
    "    accuracy_eval = accuracy_eval_results(y_true=case_classes, y_predict=predicted_case_classes)\n",
    "    print(f\"Accuracy of the predictions for volumetric test cases: {accuracy_eval}\")\n",
    "\n",
    "    return eval_results, accuracy_eval\n",
    "    "
   ]
  },
  {
   "cell_type": "code",
   "execution_count": 142,
   "metadata": {},
   "outputs": [
    {
     "name": "stderr",
     "output_type": "stream",
     "text": [
      "c:\\Users\\ASUS\\AppData\\Local\\Programs\\Python\\Python311\\Lib\\site-packages\\torch\\nn\\modules\\module.py:1532: UserWarning: Implicit dimension choice for softmax has been deprecated. Change the call to include dim=X as an argument.\n",
      "  return self._call_impl(*args, **kwargs)\n"
     ]
    },
    {
     "name": "stdout",
     "output_type": "stream",
     "text": [
      "Volumetric OCT at D:/VIP Cup/Output dataset/denoised_pkl_dataset\\0\\RawDataQA (32).pkl predicted correctly.\n",
      "Volumetric OCT at D:/VIP Cup/Output dataset/denoised_pkl_dataset\\0\\RawDataQA (21).pkl predicted correctly.\n",
      "Volumetric OCT at D:/VIP Cup/Output dataset/denoised_pkl_dataset\\0\\RawDataQA (17).pkl predicted correctly.\n",
      "Volumetric OCT at D:/VIP Cup/Output dataset/denoised_pkl_dataset\\0\\RawDataQA (33).pkl predicted correctly.\n",
      "Volumetric OCT at D:/VIP Cup/Output dataset/denoised_pkl_dataset\\0\\RawDataQA (13).pkl predicted correctly.\n",
      "Volumetric OCT at D:/VIP Cup/Output dataset/denoised_pkl_dataset\\0\\RawDataQA (7).pkl predicted correctly.\n",
      "Volumetric OCT at D:/VIP Cup/Output dataset/denoised_pkl_dataset\\0\\RawDataQA (27).pkl predicted correctly.\n",
      "Volumetric OCT at D:/VIP Cup/Output dataset/denoised_pkl_dataset\\0\\RawDataQA (36).pkl predicted correctly.\n",
      "Volumetric OCT at D:/VIP Cup/Output dataset/denoised_pkl_dataset\\1\\RawDataQA-1 (7).pkl predicted incorrectly.\n",
      "Volumetric OCT at D:/VIP Cup/Output dataset/denoised_pkl_dataset\\1\\RawDataQA-1 (23).pkl predicted correctly.\n",
      "Volumetric OCT at D:/VIP Cup/Output dataset/denoised_pkl_dataset\\1\\RawDataQA-1 (30).pkl predicted incorrectly.\n",
      "Volumetric OCT at D:/VIP Cup/Output dataset/denoised_pkl_dataset\\1\\RawDataQA-1 (25).pkl predicted correctly.\n",
      "Volumetric OCT at D:/VIP Cup/Output dataset/denoised_pkl_dataset\\1\\RawDataQA-1 (17).pkl predicted correctly.\n",
      "Volumetric OCT at D:/VIP Cup/Output dataset/denoised_pkl_dataset\\1\\RawDataQA-1 (18).pkl predicted correctly.\n",
      "Volumetric OCT at D:/VIP Cup/Output dataset/denoised_pkl_dataset\\2\\RawDataQA-2 (18).pkl predicted correctly.\n",
      "Volumetric OCT at D:/VIP Cup/Output dataset/denoised_pkl_dataset\\2\\RawDataQA-2 (7).pkl predicted correctly.\n",
      "Volumetric OCT at D:/VIP Cup/Output dataset/denoised_pkl_dataset\\2\\RawDataQA-2 (17).pkl predicted correctly.\n",
      "Volumetric OCT at D:/VIP Cup/Output dataset/denoised_pkl_dataset\\2\\RawDataQA-2 (3).pkl predicted correctly.\n",
      "Volumetric OCT at D:/VIP Cup/Output dataset/denoised_pkl_dataset\\2\\RawDataQA-2 (1).pkl predicted incorrectly.\n",
      "Accuracy of the predictions for volumetric test cases: 0.8421052631578947\n"
     ]
    }
   ],
   "source": [
    "eval_results, accuracy_eval = eval_test_dataset(test_vol_dataset_list= test_dataset_path,\n",
    "                                                         model=model,\n",
    "                                                         device=device)"
   ]
  },
  {
   "cell_type": "code",
   "execution_count": 143,
   "metadata": {},
   "outputs": [
    {
     "name": "stdout",
     "output_type": "stream",
     "text": [
      "['0', '0', '0', '0', '0', '0', '0', '0', '1', '1', '1', '1', '1', '1', '2', '2', '2', '2', '2']\n",
      "['0', '0', '0', '0', '0', '0', '0', '0', '0', '1', '2', '1', '1', '1', '2', '2', '2', '2', '1']\n"
     ]
    }
   ],
   "source": [
    "print(eval_results[\"true classes\"])\n",
    "print(eval_results[\"predicted classes\"])"
   ]
  }
 ],
 "metadata": {
  "kernelspec": {
   "display_name": "Python 3",
   "language": "python",
   "name": "python3"
  },
  "language_info": {
   "codemirror_mode": {
    "name": "ipython",
    "version": 3
   },
   "file_extension": ".py",
   "mimetype": "text/x-python",
   "name": "python",
   "nbconvert_exporter": "python",
   "pygments_lexer": "ipython3",
   "version": "3.11.3"
  }
 },
 "nbformat": 4,
 "nbformat_minor": 2
}
