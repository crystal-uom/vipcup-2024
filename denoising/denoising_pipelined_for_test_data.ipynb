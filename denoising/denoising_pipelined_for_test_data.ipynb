{
 "cells": [
  {
   "cell_type": "code",
   "execution_count": 1,
   "metadata": {},
   "outputs": [],
   "source": [
    "import numpy as np\n",
    "import bm3d\n",
    "from pathlib import Path\n",
    "import pickle\n",
    "from skimage import io, img_as_float\n",
    "import nibabel as nib\n",
    "import os\n",
    "import glob\n",
    "from collections import defaultdict"
   ]
  },
  {
   "cell_type": "markdown",
   "metadata": {},
   "source": [
    "File Paths"
   ]
  },
  {
   "cell_type": "code",
   "execution_count": 2,
   "metadata": {},
   "outputs": [],
   "source": [
    "icip_data = \"D:/VIP Cup/Dataset/ICIP_test_data_final/\"\n",
    "final_denoised_dataset = \"D:/VIP Cup/Output dataset/test_dataset_denoised_upsampled\"\n",
    "\n"
   ]
  },
  {
   "cell_type": "markdown",
   "metadata": {},
   "source": [
    "Constants"
   ]
  },
  {
   "cell_type": "code",
   "execution_count": 3,
   "metadata": {},
   "outputs": [],
   "source": [
    "tiff_directories = defaultdict(int)\n",
    "denoised_tiff_count = 0\n",
    "original_tiff_count = 0\n",
    "SIGMA = 0.085\n",
    "oct_height = 300\n",
    "oct_width = 300"
   ]
  },
  {
   "cell_type": "markdown",
   "metadata": {},
   "source": [
    "Functions to check whether a tiff file/directory or not"
   ]
  },
  {
   "cell_type": "code",
   "execution_count": 4,
   "metadata": {},
   "outputs": [],
   "source": [
    "def is_tiff_dir(curr_path):\n",
    "    '''function to check if the current directory having any tiff files'''\n",
    "    num_tiff = len(glob.glob(os.path.join(curr_path, '*.tif')))\n",
    "    return num_tiff\n",
    "\n",
    "def is_tiff(curr_path):\n",
    "    '''function to check if the current file is a tiff file or not'''\n",
    "    if os.path.isfile(curr_path) and (\".tif\" in curr_path):\n",
    "        return True\n",
    "    else:\n",
    "        return False"
   ]
  },
  {
   "cell_type": "markdown",
   "metadata": {},
   "source": [
    "Searching tiff directories"
   ]
  },
  {
   "cell_type": "code",
   "execution_count": 5,
   "metadata": {},
   "outputs": [
    {
     "name": "stdout",
     "output_type": "stream",
     "text": [
      "1th case D:/VIP Cup/Dataset/ICIP_test_data_final\\RawDataQA (1) ......\n",
      "2th case D:/VIP Cup/Dataset/ICIP_test_data_final\\RawDataQA (10) ......\n",
      "3th case D:/VIP Cup/Dataset/ICIP_test_data_final\\RawDataQA (11) ......\n",
      "4th case D:/VIP Cup/Dataset/ICIP_test_data_final\\RawDataQA (12) ......\n",
      "5th case D:/VIP Cup/Dataset/ICIP_test_data_final\\RawDataQA (13) ......\n",
      "6th case D:/VIP Cup/Dataset/ICIP_test_data_final\\RawDataQA (14) ......\n",
      "7th case D:/VIP Cup/Dataset/ICIP_test_data_final\\RawDataQA (15) ......\n",
      "8th case D:/VIP Cup/Dataset/ICIP_test_data_final\\RawDataQA (16) ......\n",
      "9th case D:/VIP Cup/Dataset/ICIP_test_data_final\\RawDataQA (17) ......\n",
      "10th case D:/VIP Cup/Dataset/ICIP_test_data_final\\RawDataQA (18) ......\n",
      "11th case D:/VIP Cup/Dataset/ICIP_test_data_final\\RawDataQA (2) ......\n",
      "12th case D:/VIP Cup/Dataset/ICIP_test_data_final\\RawDataQA (3) ......\n",
      "13th case D:/VIP Cup/Dataset/ICIP_test_data_final\\RawDataQA (4) ......\n",
      "14th case D:/VIP Cup/Dataset/ICIP_test_data_final\\RawDataQA (5) ......\n",
      "15th case D:/VIP Cup/Dataset/ICIP_test_data_final\\RawDataQA (6) ......\n",
      "16th case D:/VIP Cup/Dataset/ICIP_test_data_final\\RawDataQA (7) ......\n",
      "17th case D:/VIP Cup/Dataset/ICIP_test_data_final\\RawDataQA (8) ......\n",
      "18th case D:/VIP Cup/Dataset/ICIP_test_data_final\\RawDataQA (9) ......\n",
      "Denoised cases: 18\n",
      "Original tiff images: 3631\n"
     ]
    }
   ],
   "source": [
    "tiff_directories = defaultdict(int)\n",
    "denoised_tiff_count = 0\n",
    "original_tiff_count = 0\n",
    "SIGMA = 0.085\n",
    "\n",
    "dataset = glob.iglob(os.path.join(icip_data, '**'), recursive=True)\n",
    "\n",
    "for i,file in enumerate(dataset):\n",
    "    if is_tiff_dir(file):\n",
    "\n",
    "        current_tiff_count = is_tiff_dir(file)\n",
    "        tiff_directories[file] = current_tiff_count\n",
    "        print(f\"{len(tiff_directories)}th case {file} ......\")\n",
    "        original_tiff_count += current_tiff_count\n",
    "\n",
    "\n",
    "\n",
    "print(f\"Denoised cases: {len(tiff_directories)}\")\n",
    "#print(f\"Denoised tiff images: {denoised_tiff_count}\")\n",
    "print(f\"Original tiff images: {original_tiff_count}\")\n"
   ]
  },
  {
   "cell_type": "markdown",
   "metadata": {},
   "source": [
    "Denoising Function"
   ]
  },
  {
   "cell_type": "code",
   "execution_count": 6,
   "metadata": {},
   "outputs": [],
   "source": [
    "import numpy as np\n",
    "from numpy.linalg import svd\n",
    "from PIL import Image\n",
    "import math\n",
    "\n",
    "def get_svd_image_from_array(A):\n",
    "    # Convert the image to a NumPy array\n",
    "\n",
    "    # Remember image size\n",
    "    n = len(A)\n",
    "\n",
    "    # Take SVD\n",
    "    U, S, V = svd(A)\n",
    "\n",
    "    threshold = 4/np.sqrt(3)\n",
    "    filter = (S > threshold)*1 \n",
    "    filtered_S = np.multiply(S, filter)\n",
    "\n",
    "    # Initialize blank image\n",
    "    final_img = np.zeros((n, n))\n",
    "    \n",
    "    for i in range(n):\n",
    "        matrix = S[i]*np.outer(U[:,i],V[i])\n",
    "        final_img += matrix\n",
    "    \n",
    "    return final_img"
   ]
  },
  {
   "cell_type": "code",
   "execution_count": 7,
   "metadata": {},
   "outputs": [],
   "source": [
    "def open_noisy_image_as_array(image_path):\n",
    "    image_array = img_as_float(io.imread(image_path, as_gray=True))\n",
    "    return np.array(image_array)"
   ]
  },
  {
   "cell_type": "code",
   "execution_count": 8,
   "metadata": {},
   "outputs": [],
   "source": [
    "def bm3d_denoise(noisy_image, npsd_sigma = SIGMA):\n",
    "\n",
    "    noisy_oct = img_as_float(io.imread(noisy_image, as_gray=True))\n",
    "    sigma = npsd_sigma\n",
    "    bm3d_denoised = bm3d.bm3d(noisy_oct, sigma_psd=sigma, stage_arg=bm3d.BM3DStages.ALL_STAGES)\n",
    "    return bm3d_denoised"
   ]
  },
  {
   "cell_type": "code",
   "execution_count": 9,
   "metadata": {},
   "outputs": [],
   "source": [
    "def bm3d_denoise_from_image_array(noisy_image_array, npsd_sigma = SIGMA):\n",
    "\n",
    "    sigma = npsd_sigma\n",
    "    bm3d_denoised = bm3d.bm3d(noisy_image_array, sigma_psd=sigma, stage_arg=bm3d.BM3DStages.ALL_STAGES)\n",
    "    return bm3d_denoised"
   ]
  },
  {
   "cell_type": "markdown",
   "metadata": {},
   "source": [
    "Super Resolution functions"
   ]
  },
  {
   "cell_type": "code",
   "execution_count": 10,
   "metadata": {},
   "outputs": [],
   "source": [
    "import cv2\n",
    "import numpy as np\n",
    "\n",
    "def get_bicubic_upsampled_array(image: np.array, width: int = 300, height: int = 300) -> np.array:\n",
    "    return cv2.resize(image, (width, height), interpolation=cv2.INTER_CUBIC)\n",
    "\n",
    "def get_bilinear_upsampled_array(image: np.array, width: int = 300, height: int = 300) -> np.array:\n",
    "    return cv2.resize(image, (width, height), interpolation=cv2.INTER_LINEAR)\n",
    "\n",
    "def get_nearest_upsampled_array(image: np.array, width: int = 300, height: int = 300) -> np.array:\n",
    "    return cv2.resize(image, (width, height), interpolation=cv2.INTER_NEAREST)\n",
    "\n",
    "def get_lanczos_upsampled_array(image: np.array, width: int = 300, height: int = 300) -> np.array:\n",
    "    return cv2.resize(image, (width, height), interpolation=cv2.INTER_LANCZOS4)\n"
   ]
  },
  {
   "cell_type": "markdown",
   "metadata": {},
   "source": [
    "Saving Denoised Image as a .tiff file"
   ]
  },
  {
   "cell_type": "code",
   "execution_count": 17,
   "metadata": {},
   "outputs": [],
   "source": [
    "from matplotlib import pyplot as plt\n",
    "\n",
    "def save_denoised_image_as_tiff(denoised_array, output_path):\n",
    "    \n",
    "    plt.imsave(output_path, denoised_array, cmap='gray')"
   ]
  },
  {
   "cell_type": "markdown",
   "metadata": {},
   "source": [
    "Output path generating function"
   ]
  },
  {
   "cell_type": "code",
   "execution_count": 18,
   "metadata": {},
   "outputs": [],
   "source": [
    "def generate_out_path(file, output_dir, sigma):\n",
    "    '''generate output path'''\n",
    "    file_name = os.path.basename(file).split(\".\")[0]\n",
    "    case_name = os.path.basename(os.path.dirname(file))\n",
    "    class_name = os.path.basename(os.path.dirname(os.path.dirname(file)))\n",
    "\n",
    "    case_dir = os.path.join(output_dir,class_name,case_name)\n",
    "    os.makedirs(case_dir, exist_ok=True)\n",
    "\n",
    "    out_path = os.path.join(case_dir, file_name + \".tiff\")\n",
    "    return out_path"
   ]
  },
  {
   "cell_type": "markdown",
   "metadata": {},
   "source": [
    "Denoising and super resolving Function"
   ]
  },
  {
   "cell_type": "code",
   "execution_count": 19,
   "metadata": {},
   "outputs": [],
   "source": [
    "#denoising function\n",
    "def denoise_and_upsample(image_path, output_path, sigma=SIGMA):\n",
    "    '''function to denoise the image'''\n",
    "    bm3d_denoised = bm3d_denoise(image_path, sigma)\n",
    "    upsampled_img = get_bicubic_upsampled_array(bm3d_denoised, oct_width, oct_height)\n",
    "    save_denoised_image_as_tiff(upsampled_img, output_path)"
   ]
  },
  {
   "cell_type": "code",
   "execution_count": 20,
   "metadata": {},
   "outputs": [
    {
     "data": {
      "text/plain": [
       "defaultdict(int,\n",
       "            {'D:/VIP Cup/Dataset/ICIP_test_data_final\\\\RawDataQA (1)': 150,\n",
       "             'D:/VIP Cup/Dataset/ICIP_test_data_final\\\\RawDataQA (10)': 262,\n",
       "             'D:/VIP Cup/Dataset/ICIP_test_data_final\\\\RawDataQA (11)': 264,\n",
       "             'D:/VIP Cup/Dataset/ICIP_test_data_final\\\\RawDataQA (12)': 237,\n",
       "             'D:/VIP Cup/Dataset/ICIP_test_data_final\\\\RawDataQA (13)': 262,\n",
       "             'D:/VIP Cup/Dataset/ICIP_test_data_final\\\\RawDataQA (14)': 232,\n",
       "             'D:/VIP Cup/Dataset/ICIP_test_data_final\\\\RawDataQA (15)': 220,\n",
       "             'D:/VIP Cup/Dataset/ICIP_test_data_final\\\\RawDataQA (16)': 81,\n",
       "             'D:/VIP Cup/Dataset/ICIP_test_data_final\\\\RawDataQA (17)': 138,\n",
       "             'D:/VIP Cup/Dataset/ICIP_test_data_final\\\\RawDataQA (18)': 226,\n",
       "             'D:/VIP Cup/Dataset/ICIP_test_data_final\\\\RawDataQA (2)': 263,\n",
       "             'D:/VIP Cup/Dataset/ICIP_test_data_final\\\\RawDataQA (3)': 293,\n",
       "             'D:/VIP Cup/Dataset/ICIP_test_data_final\\\\RawDataQA (4)': 91,\n",
       "             'D:/VIP Cup/Dataset/ICIP_test_data_final\\\\RawDataQA (5)': 255,\n",
       "             'D:/VIP Cup/Dataset/ICIP_test_data_final\\\\RawDataQA (6)': 255,\n",
       "             'D:/VIP Cup/Dataset/ICIP_test_data_final\\\\RawDataQA (7)': 122,\n",
       "             'D:/VIP Cup/Dataset/ICIP_test_data_final\\\\RawDataQA (8)': 203,\n",
       "             'D:/VIP Cup/Dataset/ICIP_test_data_final\\\\RawDataQA (9)': 77})"
      ]
     },
     "execution_count": 20,
     "metadata": {},
     "output_type": "execute_result"
    }
   ],
   "source": [
    "tiff_directories"
   ]
  },
  {
   "cell_type": "markdown",
   "metadata": {},
   "source": [
    "Denoising Pipeline"
   ]
  },
  {
   "cell_type": "code",
   "execution_count": 21,
   "metadata": {},
   "outputs": [],
   "source": [
    "# denoising pipeline for denoise the tiff images in each and every tiff directories\n",
    "def denoising_pipeline(tiff_directories, final_denoised_dataset, SIGMA):\n",
    "    '''denoising pipeline for denoise the tiff images in each and every tiff directories'''\n",
    "    count = 0\n",
    "\n",
    "    for i, tiff_dir in enumerate(tiff_directories):\n",
    "        print(f\"{i}th case {tiff_dir} ......\")\n",
    "\n",
    "        tiff_files = os.listdir(tiff_dir)\n",
    "\n",
    "        if len(tiff_files) == tiff_directories[tiff_dir]:\n",
    "            for tiff_file in tiff_files:\n",
    "                tiff_file_path = os.path.join(tiff_dir, tiff_file)\n",
    "                output_path = generate_out_path(tiff_file_path, final_denoised_dataset, SIGMA)\n",
    "                denoise_and_upsample(tiff_file_path, output_path, SIGMA)\n",
    "        else:\n",
    "            raise Exception(f\"Number of tiff files in the directory is not equal to the number of tiff files in the dictionary in {tiff_dir}\")\n",
    "\n",
    "        print(f\"{i}th case {tiff_dir} denoised ......\")\n",
    "        count += 1\n",
    "\n",
    "    return count\n",
    "count = 0"
   ]
  },
  {
   "cell_type": "code",
   "execution_count": 22,
   "metadata": {},
   "outputs": [
    {
     "name": "stdout",
     "output_type": "stream",
     "text": [
      "0th case D:/VIP Cup/Dataset/ICIP_test_data_final\\RawDataQA (1) ......\n",
      "0th case D:/VIP Cup/Dataset/ICIP_test_data_final\\RawDataQA (1) denoised ......\n",
      "1th case D:/VIP Cup/Dataset/ICIP_test_data_final\\RawDataQA (10) ......\n",
      "1th case D:/VIP Cup/Dataset/ICIP_test_data_final\\RawDataQA (10) denoised ......\n",
      "2th case D:/VIP Cup/Dataset/ICIP_test_data_final\\RawDataQA (11) ......\n",
      "2th case D:/VIP Cup/Dataset/ICIP_test_data_final\\RawDataQA (11) denoised ......\n",
      "3th case D:/VIP Cup/Dataset/ICIP_test_data_final\\RawDataQA (12) ......\n",
      "3th case D:/VIP Cup/Dataset/ICIP_test_data_final\\RawDataQA (12) denoised ......\n",
      "4th case D:/VIP Cup/Dataset/ICIP_test_data_final\\RawDataQA (13) ......\n",
      "4th case D:/VIP Cup/Dataset/ICIP_test_data_final\\RawDataQA (13) denoised ......\n",
      "5th case D:/VIP Cup/Dataset/ICIP_test_data_final\\RawDataQA (14) ......\n",
      "5th case D:/VIP Cup/Dataset/ICIP_test_data_final\\RawDataQA (14) denoised ......\n",
      "6th case D:/VIP Cup/Dataset/ICIP_test_data_final\\RawDataQA (15) ......\n",
      "6th case D:/VIP Cup/Dataset/ICIP_test_data_final\\RawDataQA (15) denoised ......\n",
      "7th case D:/VIP Cup/Dataset/ICIP_test_data_final\\RawDataQA (16) ......\n",
      "7th case D:/VIP Cup/Dataset/ICIP_test_data_final\\RawDataQA (16) denoised ......\n",
      "8th case D:/VIP Cup/Dataset/ICIP_test_data_final\\RawDataQA (17) ......\n",
      "8th case D:/VIP Cup/Dataset/ICIP_test_data_final\\RawDataQA (17) denoised ......\n",
      "9th case D:/VIP Cup/Dataset/ICIP_test_data_final\\RawDataQA (18) ......\n",
      "9th case D:/VIP Cup/Dataset/ICIP_test_data_final\\RawDataQA (18) denoised ......\n",
      "10th case D:/VIP Cup/Dataset/ICIP_test_data_final\\RawDataQA (2) ......\n",
      "10th case D:/VIP Cup/Dataset/ICIP_test_data_final\\RawDataQA (2) denoised ......\n",
      "11th case D:/VIP Cup/Dataset/ICIP_test_data_final\\RawDataQA (3) ......\n",
      "11th case D:/VIP Cup/Dataset/ICIP_test_data_final\\RawDataQA (3) denoised ......\n",
      "12th case D:/VIP Cup/Dataset/ICIP_test_data_final\\RawDataQA (4) ......\n",
      "12th case D:/VIP Cup/Dataset/ICIP_test_data_final\\RawDataQA (4) denoised ......\n",
      "13th case D:/VIP Cup/Dataset/ICIP_test_data_final\\RawDataQA (5) ......\n",
      "13th case D:/VIP Cup/Dataset/ICIP_test_data_final\\RawDataQA (5) denoised ......\n",
      "14th case D:/VIP Cup/Dataset/ICIP_test_data_final\\RawDataQA (6) ......\n",
      "14th case D:/VIP Cup/Dataset/ICIP_test_data_final\\RawDataQA (6) denoised ......\n",
      "15th case D:/VIP Cup/Dataset/ICIP_test_data_final\\RawDataQA (7) ......\n",
      "15th case D:/VIP Cup/Dataset/ICIP_test_data_final\\RawDataQA (7) denoised ......\n",
      "16th case D:/VIP Cup/Dataset/ICIP_test_data_final\\RawDataQA (8) ......\n",
      "16th case D:/VIP Cup/Dataset/ICIP_test_data_final\\RawDataQA (8) denoised ......\n",
      "17th case D:/VIP Cup/Dataset/ICIP_test_data_final\\RawDataQA (9) ......\n",
      "17th case D:/VIP Cup/Dataset/ICIP_test_data_final\\RawDataQA (9) denoised ......\n",
      "Denoised cases: 18\n"
     ]
    }
   ],
   "source": [
    "# # denoising pipeline for denoise the tiff images in each and every tiff directories\n",
    "# denoised_tiff_count = denoising_pipeline(tiff_directories, final_denoised_dataset, SIGMA)\n",
    "# print(f\"Denoised cases: {denoised_tiff_count}\")"
   ]
  },
  {
   "cell_type": "code",
   "execution_count": null,
   "metadata": {},
   "outputs": [],
   "source": []
  }
 ],
 "metadata": {
  "kernelspec": {
   "display_name": "Python 3",
   "language": "python",
   "name": "python3"
  },
  "language_info": {
   "codemirror_mode": {
    "name": "ipython",
    "version": 3
   },
   "file_extension": ".py",
   "mimetype": "text/x-python",
   "name": "python",
   "nbconvert_exporter": "python",
   "pygments_lexer": "ipython3",
   "version": "3.11.3"
  }
 },
 "nbformat": 4,
 "nbformat_minor": 2
}
