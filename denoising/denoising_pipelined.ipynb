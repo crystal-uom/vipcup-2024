{
 "cells": [
  {
   "cell_type": "code",
   "execution_count": 37,
   "metadata": {},
   "outputs": [],
   "source": [
    "import numpy as np\n",
    "import bm3d\n",
    "import matplotlib.pyplot as plt\n",
    "from pathlib import Path\n",
    "from skimage import io, img_as_float\n",
    "import os\n",
    "import glob\n",
    "from collections import defaultdict"
   ]
  },
  {
   "cell_type": "markdown",
   "metadata": {},
   "source": [
    "File Paths"
   ]
  },
  {
   "cell_type": "code",
   "execution_count": 38,
   "metadata": {},
   "outputs": [],
   "source": [
    "# Path to the input dataset\n",
    "icip_data = \"D:/VIP Cup/datasets/ICIP training data/\"\n",
    "\n",
    "# Path to the denoised output dataset\n",
    "#final_denoised_dataset = \"D:/VIP Cup/output_datasets/denoised_icip_dataset\"\n",
    "final_denoised_dataset = \"D:/VIP Cup/temp_data\""
   ]
  },
  {
   "cell_type": "markdown",
   "metadata": {},
   "source": [
    "Constants"
   ]
  },
  {
   "cell_type": "code",
   "execution_count": 39,
   "metadata": {},
   "outputs": [],
   "source": [
    "tiff_directories = defaultdict(int)\n",
    "denoised_tiff_count = 0\n",
    "original_tiff_count = 0\n",
    "SIGMA = 0.085\n",
    "oct_height = 300\n",
    "oct_width = 300"
   ]
  },
  {
   "cell_type": "markdown",
   "metadata": {},
   "source": [
    "Functions to check whether a tiff file/directory or not"
   ]
  },
  {
   "cell_type": "code",
   "execution_count": 40,
   "metadata": {},
   "outputs": [],
   "source": [
    "def is_tiff_dir(curr_path):\n",
    "    '''function to check if the current directory having any tiff files'''\n",
    "    num_tiff = len(glob.glob(os.path.join(curr_path, '*.tiff' or '*.tif')))\n",
    "    return num_tiff\n",
    "\n",
    "def is_tiff(curr_path):\n",
    "    '''function to check if the current file is a tiff file or not'''\n",
    "    if os.path.isfile(curr_path) and ((\".tiff\" or \".tif\" ) in curr_path):\n",
    "        return True\n",
    "    else:\n",
    "        return False"
   ]
  },
  {
   "cell_type": "markdown",
   "metadata": {},
   "source": [
    "Searching tiff directories"
   ]
  },
  {
   "cell_type": "code",
   "execution_count": 41,
   "metadata": {},
   "outputs": [
    {
     "name": "stdout",
     "output_type": "stream",
     "text": [
      "1th case D:/VIP Cup/datasets/ICIP training data\\0\\RawDataQA (1) ......\n",
      "2th case D:/VIP Cup/datasets/ICIP training data\\0\\RawDataQA (10) ......\n",
      "3th case D:/VIP Cup/datasets/ICIP training data\\0\\RawDataQA (11) ......\n",
      "4th case D:/VIP Cup/datasets/ICIP training data\\0\\RawDataQA (12) ......\n",
      "5th case D:/VIP Cup/datasets/ICIP training data\\0\\RawDataQA (13) ......\n",
      "6th case D:/VIP Cup/datasets/ICIP training data\\0\\RawDataQA (14) ......\n",
      "7th case D:/VIP Cup/datasets/ICIP training data\\0\\RawDataQA (15) ......\n",
      "8th case D:/VIP Cup/datasets/ICIP training data\\0\\RawDataQA (16) ......\n",
      "9th case D:/VIP Cup/datasets/ICIP training data\\0\\RawDataQA (17) ......\n",
      "10th case D:/VIP Cup/datasets/ICIP training data\\0\\RawDataQA (18) ......\n",
      "11th case D:/VIP Cup/datasets/ICIP training data\\0\\RawDataQA (19) ......\n",
      "12th case D:/VIP Cup/datasets/ICIP training data\\0\\RawDataQA (2) ......\n",
      "13th case D:/VIP Cup/datasets/ICIP training data\\0\\RawDataQA (20) ......\n",
      "14th case D:/VIP Cup/datasets/ICIP training data\\0\\RawDataQA (21) ......\n",
      "15th case D:/VIP Cup/datasets/ICIP training data\\0\\RawDataQA (22) ......\n",
      "16th case D:/VIP Cup/datasets/ICIP training data\\0\\RawDataQA (23) ......\n",
      "17th case D:/VIP Cup/datasets/ICIP training data\\0\\RawDataQA (24) ......\n",
      "18th case D:/VIP Cup/datasets/ICIP training data\\0\\RawDataQA (25) ......\n",
      "19th case D:/VIP Cup/datasets/ICIP training data\\0\\RawDataQA (26) ......\n",
      "20th case D:/VIP Cup/datasets/ICIP training data\\0\\RawDataQA (27) ......\n",
      "21th case D:/VIP Cup/datasets/ICIP training data\\0\\RawDataQA (28) ......\n",
      "22th case D:/VIP Cup/datasets/ICIP training data\\0\\RawDataQA (29) ......\n",
      "23th case D:/VIP Cup/datasets/ICIP training data\\0\\RawDataQA (3) ......\n",
      "24th case D:/VIP Cup/datasets/ICIP training data\\0\\RawDataQA (30) ......\n",
      "25th case D:/VIP Cup/datasets/ICIP training data\\0\\RawDataQA (31) ......\n",
      "26th case D:/VIP Cup/datasets/ICIP training data\\0\\RawDataQA (32) ......\n",
      "27th case D:/VIP Cup/datasets/ICIP training data\\0\\RawDataQA (33) ......\n",
      "28th case D:/VIP Cup/datasets/ICIP training data\\0\\RawDataQA (34) ......\n",
      "29th case D:/VIP Cup/datasets/ICIP training data\\0\\RawDataQA (35) ......\n",
      "30th case D:/VIP Cup/datasets/ICIP training data\\0\\RawDataQA (36) ......\n",
      "31th case D:/VIP Cup/datasets/ICIP training data\\0\\RawDataQA (37) ......\n",
      "32th case D:/VIP Cup/datasets/ICIP training data\\0\\RawDataQA (38) ......\n",
      "33th case D:/VIP Cup/datasets/ICIP training data\\0\\RawDataQA (39) ......\n",
      "34th case D:/VIP Cup/datasets/ICIP training data\\0\\RawDataQA (4) ......\n",
      "35th case D:/VIP Cup/datasets/ICIP training data\\0\\RawDataQA (40) ......\n",
      "36th case D:/VIP Cup/datasets/ICIP training data\\0\\RawDataQA (41) ......\n",
      "37th case D:/VIP Cup/datasets/ICIP training data\\0\\RawDataQA (42) ......\n",
      "38th case D:/VIP Cup/datasets/ICIP training data\\0\\RawDataQA (5) ......\n",
      "39th case D:/VIP Cup/datasets/ICIP training data\\0\\RawDataQA (6) ......\n",
      "40th case D:/VIP Cup/datasets/ICIP training data\\0\\RawDataQA (7) ......\n",
      "41th case D:/VIP Cup/datasets/ICIP training data\\0\\RawDataQA (8) ......\n",
      "42th case D:/VIP Cup/datasets/ICIP training data\\0\\RawDataQA (9) ......\n",
      "43th case D:/VIP Cup/datasets/ICIP training data\\1\\RawDataQA-1 (1) ......\n",
      "44th case D:/VIP Cup/datasets/ICIP training data\\1\\RawDataQA-1 (10) ......\n",
      "45th case D:/VIP Cup/datasets/ICIP training data\\1\\RawDataQA-1 (11) ......\n",
      "46th case D:/VIP Cup/datasets/ICIP training data\\1\\RawDataQA-1 (12) ......\n",
      "47th case D:/VIP Cup/datasets/ICIP training data\\1\\RawDataQA-1 (13) ......\n",
      "48th case D:/VIP Cup/datasets/ICIP training data\\1\\RawDataQA-1 (14) ......\n",
      "49th case D:/VIP Cup/datasets/ICIP training data\\1\\RawDataQA-1 (15) ......\n",
      "50th case D:/VIP Cup/datasets/ICIP training data\\1\\RawDataQA-1 (16) ......\n",
      "51th case D:/VIP Cup/datasets/ICIP training data\\1\\RawDataQA-1 (17) ......\n",
      "52th case D:/VIP Cup/datasets/ICIP training data\\1\\RawDataQA-1 (18) ......\n",
      "53th case D:/VIP Cup/datasets/ICIP training data\\1\\RawDataQA-1 (19) ......\n",
      "54th case D:/VIP Cup/datasets/ICIP training data\\1\\RawDataQA-1 (2) ......\n",
      "55th case D:/VIP Cup/datasets/ICIP training data\\1\\RawDataQA-1 (20) ......\n",
      "56th case D:/VIP Cup/datasets/ICIP training data\\1\\RawDataQA-1 (21) ......\n",
      "57th case D:/VIP Cup/datasets/ICIP training data\\1\\RawDataQA-1 (22) ......\n",
      "58th case D:/VIP Cup/datasets/ICIP training data\\1\\RawDataQA-1 (23) ......\n",
      "59th case D:/VIP Cup/datasets/ICIP training data\\1\\RawDataQA-1 (24) ......\n",
      "60th case D:/VIP Cup/datasets/ICIP training data\\1\\RawDataQA-1 (25) ......\n",
      "61th case D:/VIP Cup/datasets/ICIP training data\\1\\RawDataQA-1 (26) ......\n",
      "62th case D:/VIP Cup/datasets/ICIP training data\\1\\RawDataQA-1 (27) ......\n",
      "63th case D:/VIP Cup/datasets/ICIP training data\\1\\RawDataQA-1 (28) ......\n",
      "64th case D:/VIP Cup/datasets/ICIP training data\\1\\RawDataQA-1 (29) ......\n",
      "65th case D:/VIP Cup/datasets/ICIP training data\\1\\RawDataQA-1 (3) ......\n",
      "66th case D:/VIP Cup/datasets/ICIP training data\\1\\RawDataQA-1 (30) ......\n",
      "67th case D:/VIP Cup/datasets/ICIP training data\\1\\RawDataQA-1 (4) ......\n",
      "68th case D:/VIP Cup/datasets/ICIP training data\\1\\RawDataQA-1 (5) ......\n",
      "69th case D:/VIP Cup/datasets/ICIP training data\\1\\RawDataQA-1 (6) ......\n",
      "70th case D:/VIP Cup/datasets/ICIP training data\\1\\RawDataQA-1 (7) ......\n",
      "71th case D:/VIP Cup/datasets/ICIP training data\\1\\RawDataQA-1 (8) ......\n",
      "72th case D:/VIP Cup/datasets/ICIP training data\\1\\RawDataQA-1 (9) ......\n",
      "73th case D:/VIP Cup/datasets/ICIP training data\\2\\RawDataQA-2 (1) ......\n",
      "74th case D:/VIP Cup/datasets/ICIP training data\\2\\RawDataQA-2 (10) ......\n",
      "75th case D:/VIP Cup/datasets/ICIP training data\\2\\RawDataQA-2 (11) ......\n",
      "76th case D:/VIP Cup/datasets/ICIP training data\\2\\RawDataQA-2 (12) ......\n",
      "77th case D:/VIP Cup/datasets/ICIP training data\\2\\RawDataQA-2 (13) ......\n",
      "78th case D:/VIP Cup/datasets/ICIP training data\\2\\RawDataQA-2 (14) ......\n",
      "79th case D:/VIP Cup/datasets/ICIP training data\\2\\RawDataQA-2 (15) ......\n",
      "80th case D:/VIP Cup/datasets/ICIP training data\\2\\RawDataQA-2 (16) ......\n",
      "81th case D:/VIP Cup/datasets/ICIP training data\\2\\RawDataQA-2 (17) ......\n",
      "82th case D:/VIP Cup/datasets/ICIP training data\\2\\RawDataQA-2 (18) ......\n",
      "83th case D:/VIP Cup/datasets/ICIP training data\\2\\RawDataQA-2 (19) ......\n",
      "84th case D:/VIP Cup/datasets/ICIP training data\\2\\RawDataQA-2 (2) ......\n",
      "85th case D:/VIP Cup/datasets/ICIP training data\\2\\RawDataQA-2 (20) ......\n",
      "86th case D:/VIP Cup/datasets/ICIP training data\\2\\RawDataQA-2 (21) ......\n",
      "87th case D:/VIP Cup/datasets/ICIP training data\\2\\RawDataQA-2 (22) ......\n",
      "88th case D:/VIP Cup/datasets/ICIP training data\\2\\RawDataQA-2 (23) ......\n",
      "89th case D:/VIP Cup/datasets/ICIP training data\\2\\RawDataQA-2 (24) ......\n",
      "90th case D:/VIP Cup/datasets/ICIP training data\\2\\RawDataQA-2 (25) ......\n",
      "91th case D:/VIP Cup/datasets/ICIP training data\\2\\RawDataQA-2 (26) ......\n",
      "92th case D:/VIP Cup/datasets/ICIP training data\\2\\RawDataQA-2 (27) ......\n",
      "93th case D:/VIP Cup/datasets/ICIP training data\\2\\RawDataQA-2 (28) ......\n",
      "94th case D:/VIP Cup/datasets/ICIP training data\\2\\RawDataQA-2 (3) ......\n",
      "95th case D:/VIP Cup/datasets/ICIP training data\\2\\RawDataQA-2 (4) ......\n",
      "96th case D:/VIP Cup/datasets/ICIP training data\\2\\RawDataQA-2 (5) ......\n",
      "97th case D:/VIP Cup/datasets/ICIP training data\\2\\RawDataQA-2 (6) ......\n",
      "98th case D:/VIP Cup/datasets/ICIP training data\\2\\RawDataQA-2 (7) ......\n",
      "99th case D:/VIP Cup/datasets/ICIP training data\\2\\RawDataQA-2 (8) ......\n",
      "100th case D:/VIP Cup/datasets/ICIP training data\\2\\RawDataQA-2 (9) ......\n",
      "Denoised cases: 100\n",
      "Original tiff images: 18038\n"
     ]
    }
   ],
   "source": [
    "tiff_directories = defaultdict(int)\n",
    "denoised_tiff_count = 0\n",
    "original_tiff_count = 0\n",
    "SIGMA = 0.083\n",
    "\n",
    "dataset = glob.iglob(os.path.join(icip_data, '**'), recursive=True)\n",
    "\n",
    "for i,file in enumerate(dataset):\n",
    "    if is_tiff_dir(file):\n",
    "\n",
    "        current_tiff_count = is_tiff_dir(file)\n",
    "        tiff_directories[file] = current_tiff_count\n",
    "        print(f\"{len(tiff_directories)}th case {file} ......\")\n",
    "        original_tiff_count += current_tiff_count\n",
    "\n",
    "\n",
    "\n",
    "print(f\"Denoised cases: {len(tiff_directories)}\")\n",
    "#print(f\"Denoised tiff images: {denoised_tiff_count}\")\n",
    "print(f\"Original tiff images: {original_tiff_count}\")\n"
   ]
  },
  {
   "cell_type": "markdown",
   "metadata": {},
   "source": [
    "Denoising Function"
   ]
  },
  {
   "cell_type": "code",
   "execution_count": 42,
   "metadata": {},
   "outputs": [],
   "source": [
    "import numpy as np\n",
    "from numpy.linalg import svd\n",
    "from PIL import Image\n",
    "import math\n",
    "\n",
    "def get_svd_image_from_array(A):\n",
    "    # Convert the image to a NumPy array\n",
    "\n",
    "    # Remember image size\n",
    "    n = len(A)\n",
    "\n",
    "    # Take SVD\n",
    "    U, S, V = svd(A)\n",
    "\n",
    "    threshold = 4/np.sqrt(3)\n",
    "    filter = (S > threshold)*1 \n",
    "    filtered_S = np.multiply(S, filter)\n",
    "\n",
    "    # Initialize blank image\n",
    "    final_img = np.zeros((n, n))\n",
    "    \n",
    "    for i in range(n):\n",
    "        matrix = S[i]*np.outer(U[:,i],V[i])\n",
    "        final_img += matrix\n",
    "    \n",
    "    return final_img"
   ]
  },
  {
   "cell_type": "code",
   "execution_count": 43,
   "metadata": {},
   "outputs": [],
   "source": [
    "def open_noisy_image_as_array(image_path):\n",
    "    image_array = img_as_float(io.imread(image_path, as_gray=True))\n",
    "    return np.array(image_array)"
   ]
  },
  {
   "cell_type": "code",
   "execution_count": 44,
   "metadata": {},
   "outputs": [],
   "source": [
    "def bm3d_denoise(noisy_image, npsd_sigma = SIGMA):\n",
    "\n",
    "    noisy_oct = img_as_float(io.imread(noisy_image, as_gray=True))\n",
    "    sigma = npsd_sigma\n",
    "    bm3d_denoised = bm3d.bm3d(noisy_oct, sigma_psd=sigma, stage_arg=bm3d.BM3DStages.ALL_STAGES)\n",
    "    return bm3d_denoised"
   ]
  },
  {
   "cell_type": "markdown",
   "metadata": {},
   "source": [
    "Saving Denoised Image as a .tiff file"
   ]
  },
  {
   "cell_type": "code",
   "execution_count": 45,
   "metadata": {},
   "outputs": [],
   "source": [
    "def save_denoised_image_as_tiff(denoised_array, output_path):\n",
    "    \n",
    "    plt.imsave(output_path, denoised_array, cmap='gray')"
   ]
  },
  {
   "cell_type": "markdown",
   "metadata": {},
   "source": [
    "Output path generating function"
   ]
  },
  {
   "cell_type": "code",
   "execution_count": 46,
   "metadata": {},
   "outputs": [],
   "source": [
    "def generate_out_path(file, output_dir, sigma):\n",
    "    '''generate output path'''\n",
    "    file_name = os.path.basename(file).split(\".\")[0]\n",
    "    case_name = os.path.basename(os.path.dirname(file))\n",
    "    class_name = os.path.basename(os.path.dirname(os.path.dirname(file)))\n",
    "\n",
    "    case_dir = os.path.join(output_dir,class_name,case_name)\n",
    "    os.makedirs(case_dir, exist_ok=True)\n",
    "\n",
    "    out_path = os.path.join(case_dir, file_name + \"_denoised_.tiff\")\n",
    "    return out_path"
   ]
  },
  {
   "cell_type": "markdown",
   "metadata": {},
   "source": [
    "Denoising Function"
   ]
  },
  {
   "cell_type": "code",
   "execution_count": 47,
   "metadata": {},
   "outputs": [],
   "source": [
    "#denoising function\n",
    "def denoise(image_path, output_path, sigma=SIGMA):\n",
    "    '''function to denoise the image'''\n",
    "    bm3d_denoised = bm3d_denoise(image_path, sigma)\n",
    "    svd_denoised = get_svd_image_from_array(bm3d_denoised)\n",
    "    save_denoised_image_as_tiff(svd_denoised, output_path)"
   ]
  },
  {
   "cell_type": "code",
   "execution_count": 48,
   "metadata": {},
   "outputs": [
    {
     "data": {
      "text/plain": [
       "defaultdict(int,\n",
       "            {'D:/VIP Cup/datasets/ICIP training data\\\\0\\\\RawDataQA (1)': 52,\n",
       "             'D:/VIP Cup/datasets/ICIP training data\\\\0\\\\RawDataQA (10)': 273,\n",
       "             'D:/VIP Cup/datasets/ICIP training data\\\\0\\\\RawDataQA (11)': 300,\n",
       "             'D:/VIP Cup/datasets/ICIP training data\\\\0\\\\RawDataQA (12)': 258,\n",
       "             'D:/VIP Cup/datasets/ICIP training data\\\\0\\\\RawDataQA (13)': 146,\n",
       "             'D:/VIP Cup/datasets/ICIP training data\\\\0\\\\RawDataQA (14)': 220,\n",
       "             'D:/VIP Cup/datasets/ICIP training data\\\\0\\\\RawDataQA (15)': 87,\n",
       "             'D:/VIP Cup/datasets/ICIP training data\\\\0\\\\RawDataQA (16)': 52,\n",
       "             'D:/VIP Cup/datasets/ICIP training data\\\\0\\\\RawDataQA (17)': 176,\n",
       "             'D:/VIP Cup/datasets/ICIP training data\\\\0\\\\RawDataQA (18)': 300,\n",
       "             'D:/VIP Cup/datasets/ICIP training data\\\\0\\\\RawDataQA (19)': 84,\n",
       "             'D:/VIP Cup/datasets/ICIP training data\\\\0\\\\RawDataQA (2)': 201,\n",
       "             'D:/VIP Cup/datasets/ICIP training data\\\\0\\\\RawDataQA (20)': 153,\n",
       "             'D:/VIP Cup/datasets/ICIP training data\\\\0\\\\RawDataQA (21)': 153,\n",
       "             'D:/VIP Cup/datasets/ICIP training data\\\\0\\\\RawDataQA (22)': 283,\n",
       "             'D:/VIP Cup/datasets/ICIP training data\\\\0\\\\RawDataQA (23)': 283,\n",
       "             'D:/VIP Cup/datasets/ICIP training data\\\\0\\\\RawDataQA (24)': 250,\n",
       "             'D:/VIP Cup/datasets/ICIP training data\\\\0\\\\RawDataQA (25)': 292,\n",
       "             'D:/VIP Cup/datasets/ICIP training data\\\\0\\\\RawDataQA (26)': 230,\n",
       "             'D:/VIP Cup/datasets/ICIP training data\\\\0\\\\RawDataQA (27)': 97,\n",
       "             'D:/VIP Cup/datasets/ICIP training data\\\\0\\\\RawDataQA (28)': 110,\n",
       "             'D:/VIP Cup/datasets/ICIP training data\\\\0\\\\RawDataQA (29)': 266,\n",
       "             'D:/VIP Cup/datasets/ICIP training data\\\\0\\\\RawDataQA (3)': 187,\n",
       "             'D:/VIP Cup/datasets/ICIP training data\\\\0\\\\RawDataQA (30)': 196,\n",
       "             'D:/VIP Cup/datasets/ICIP training data\\\\0\\\\RawDataQA (31)': 300,\n",
       "             'D:/VIP Cup/datasets/ICIP training data\\\\0\\\\RawDataQA (32)': 134,\n",
       "             'D:/VIP Cup/datasets/ICIP training data\\\\0\\\\RawDataQA (33)': 203,\n",
       "             'D:/VIP Cup/datasets/ICIP training data\\\\0\\\\RawDataQA (34)': 185,\n",
       "             'D:/VIP Cup/datasets/ICIP training data\\\\0\\\\RawDataQA (35)': 276,\n",
       "             'D:/VIP Cup/datasets/ICIP training data\\\\0\\\\RawDataQA (36)': 282,\n",
       "             'D:/VIP Cup/datasets/ICIP training data\\\\0\\\\RawDataQA (37)': 299,\n",
       "             'D:/VIP Cup/datasets/ICIP training data\\\\0\\\\RawDataQA (38)': 273,\n",
       "             'D:/VIP Cup/datasets/ICIP training data\\\\0\\\\RawDataQA (39)': 168,\n",
       "             'D:/VIP Cup/datasets/ICIP training data\\\\0\\\\RawDataQA (4)': 34,\n",
       "             'D:/VIP Cup/datasets/ICIP training data\\\\0\\\\RawDataQA (40)': 170,\n",
       "             'D:/VIP Cup/datasets/ICIP training data\\\\0\\\\RawDataQA (41)': 174,\n",
       "             'D:/VIP Cup/datasets/ICIP training data\\\\0\\\\RawDataQA (42)': 132,\n",
       "             'D:/VIP Cup/datasets/ICIP training data\\\\0\\\\RawDataQA (5)': 129,\n",
       "             'D:/VIP Cup/datasets/ICIP training data\\\\0\\\\RawDataQA (6)': 250,\n",
       "             'D:/VIP Cup/datasets/ICIP training data\\\\0\\\\RawDataQA (7)': 234,\n",
       "             'D:/VIP Cup/datasets/ICIP training data\\\\0\\\\RawDataQA (8)': 259,\n",
       "             'D:/VIP Cup/datasets/ICIP training data\\\\0\\\\RawDataQA (9)': 83,\n",
       "             'D:/VIP Cup/datasets/ICIP training data\\\\1\\\\RawDataQA-1 (1)': 186,\n",
       "             'D:/VIP Cup/datasets/ICIP training data\\\\1\\\\RawDataQA-1 (10)': 76,\n",
       "             'D:/VIP Cup/datasets/ICIP training data\\\\1\\\\RawDataQA-1 (11)': 45,\n",
       "             'D:/VIP Cup/datasets/ICIP training data\\\\1\\\\RawDataQA-1 (12)': 299,\n",
       "             'D:/VIP Cup/datasets/ICIP training data\\\\1\\\\RawDataQA-1 (13)': 293,\n",
       "             'D:/VIP Cup/datasets/ICIP training data\\\\1\\\\RawDataQA-1 (14)': 146,\n",
       "             'D:/VIP Cup/datasets/ICIP training data\\\\1\\\\RawDataQA-1 (15)': 168,\n",
       "             'D:/VIP Cup/datasets/ICIP training data\\\\1\\\\RawDataQA-1 (16)': 55,\n",
       "             'D:/VIP Cup/datasets/ICIP training data\\\\1\\\\RawDataQA-1 (17)': 95,\n",
       "             'D:/VIP Cup/datasets/ICIP training data\\\\1\\\\RawDataQA-1 (18)': 289,\n",
       "             'D:/VIP Cup/datasets/ICIP training data\\\\1\\\\RawDataQA-1 (19)': 92,\n",
       "             'D:/VIP Cup/datasets/ICIP training data\\\\1\\\\RawDataQA-1 (2)': 291,\n",
       "             'D:/VIP Cup/datasets/ICIP training data\\\\1\\\\RawDataQA-1 (20)': 145,\n",
       "             'D:/VIP Cup/datasets/ICIP training data\\\\1\\\\RawDataQA-1 (21)': 125,\n",
       "             'D:/VIP Cup/datasets/ICIP training data\\\\1\\\\RawDataQA-1 (22)': 119,\n",
       "             'D:/VIP Cup/datasets/ICIP training data\\\\1\\\\RawDataQA-1 (23)': 156,\n",
       "             'D:/VIP Cup/datasets/ICIP training data\\\\1\\\\RawDataQA-1 (24)': 150,\n",
       "             'D:/VIP Cup/datasets/ICIP training data\\\\1\\\\RawDataQA-1 (25)': 170,\n",
       "             'D:/VIP Cup/datasets/ICIP training data\\\\1\\\\RawDataQA-1 (26)': 294,\n",
       "             'D:/VIP Cup/datasets/ICIP training data\\\\1\\\\RawDataQA-1 (27)': 158,\n",
       "             'D:/VIP Cup/datasets/ICIP training data\\\\1\\\\RawDataQA-1 (28)': 298,\n",
       "             'D:/VIP Cup/datasets/ICIP training data\\\\1\\\\RawDataQA-1 (29)': 221,\n",
       "             'D:/VIP Cup/datasets/ICIP training data\\\\1\\\\RawDataQA-1 (3)': 77,\n",
       "             'D:/VIP Cup/datasets/ICIP training data\\\\1\\\\RawDataQA-1 (30)': 284,\n",
       "             'D:/VIP Cup/datasets/ICIP training data\\\\1\\\\RawDataQA-1 (4)': 226,\n",
       "             'D:/VIP Cup/datasets/ICIP training data\\\\1\\\\RawDataQA-1 (5)': 46,\n",
       "             'D:/VIP Cup/datasets/ICIP training data\\\\1\\\\RawDataQA-1 (6)': 179,\n",
       "             'D:/VIP Cup/datasets/ICIP training data\\\\1\\\\RawDataQA-1 (7)': 158,\n",
       "             'D:/VIP Cup/datasets/ICIP training data\\\\1\\\\RawDataQA-1 (8)': 239,\n",
       "             'D:/VIP Cup/datasets/ICIP training data\\\\1\\\\RawDataQA-1 (9)': 160,\n",
       "             'D:/VIP Cup/datasets/ICIP training data\\\\2\\\\RawDataQA-2 (1)': 52,\n",
       "             'D:/VIP Cup/datasets/ICIP training data\\\\2\\\\RawDataQA-2 (10)': 204,\n",
       "             'D:/VIP Cup/datasets/ICIP training data\\\\2\\\\RawDataQA-2 (11)': 238,\n",
       "             'D:/VIP Cup/datasets/ICIP training data\\\\2\\\\RawDataQA-2 (12)': 35,\n",
       "             'D:/VIP Cup/datasets/ICIP training data\\\\2\\\\RawDataQA-2 (13)': 221,\n",
       "             'D:/VIP Cup/datasets/ICIP training data\\\\2\\\\RawDataQA-2 (14)': 99,\n",
       "             'D:/VIP Cup/datasets/ICIP training data\\\\2\\\\RawDataQA-2 (15)': 130,\n",
       "             'D:/VIP Cup/datasets/ICIP training data\\\\2\\\\RawDataQA-2 (16)': 105,\n",
       "             'D:/VIP Cup/datasets/ICIP training data\\\\2\\\\RawDataQA-2 (17)': 57,\n",
       "             'D:/VIP Cup/datasets/ICIP training data\\\\2\\\\RawDataQA-2 (18)': 90,\n",
       "             'D:/VIP Cup/datasets/ICIP training data\\\\2\\\\RawDataQA-2 (19)': 125,\n",
       "             'D:/VIP Cup/datasets/ICIP training data\\\\2\\\\RawDataQA-2 (2)': 141,\n",
       "             'D:/VIP Cup/datasets/ICIP training data\\\\2\\\\RawDataQA-2 (20)': 300,\n",
       "             'D:/VIP Cup/datasets/ICIP training data\\\\2\\\\RawDataQA-2 (21)': 298,\n",
       "             'D:/VIP Cup/datasets/ICIP training data\\\\2\\\\RawDataQA-2 (22)': 241,\n",
       "             'D:/VIP Cup/datasets/ICIP training data\\\\2\\\\RawDataQA-2 (23)': 63,\n",
       "             'D:/VIP Cup/datasets/ICIP training data\\\\2\\\\RawDataQA-2 (24)': 122,\n",
       "             'D:/VIP Cup/datasets/ICIP training data\\\\2\\\\RawDataQA-2 (25)': 50,\n",
       "             'D:/VIP Cup/datasets/ICIP training data\\\\2\\\\RawDataQA-2 (26)': 181,\n",
       "             'D:/VIP Cup/datasets/ICIP training data\\\\2\\\\RawDataQA-2 (27)': 253,\n",
       "             'D:/VIP Cup/datasets/ICIP training data\\\\2\\\\RawDataQA-2 (28)': 256,\n",
       "             'D:/VIP Cup/datasets/ICIP training data\\\\2\\\\RawDataQA-2 (3)': 276,\n",
       "             'D:/VIP Cup/datasets/ICIP training data\\\\2\\\\RawDataQA-2 (4)': 114,\n",
       "             'D:/VIP Cup/datasets/ICIP training data\\\\2\\\\RawDataQA-2 (5)': 83,\n",
       "             'D:/VIP Cup/datasets/ICIP training data\\\\2\\\\RawDataQA-2 (6)': 211,\n",
       "             'D:/VIP Cup/datasets/ICIP training data\\\\2\\\\RawDataQA-2 (7)': 288,\n",
       "             'D:/VIP Cup/datasets/ICIP training data\\\\2\\\\RawDataQA-2 (8)': 193,\n",
       "             'D:/VIP Cup/datasets/ICIP training data\\\\2\\\\RawDataQA-2 (9)': 138})"
      ]
     },
     "execution_count": 48,
     "metadata": {},
     "output_type": "execute_result"
    }
   ],
   "source": [
    "tiff_directories"
   ]
  },
  {
   "cell_type": "markdown",
   "metadata": {},
   "source": [
    "Denoising Pipeline"
   ]
  },
  {
   "cell_type": "code",
   "execution_count": 49,
   "metadata": {},
   "outputs": [],
   "source": [
    "# denoising pipeline for denoise the tiff images in each and every tiff directories\n",
    "def denoising_pipeline(tiff_directories, final_denoised_dataset, SIGMA):\n",
    "    '''denoising pipeline for denoise the tiff images in each and every tiff directories'''\n",
    "    count = 0\n",
    "\n",
    "    for i, tiff_dir in enumerate(tiff_directories):\n",
    "        print(f\"{i}th case {tiff_dir} ......\")\n",
    "\n",
    "        tiff_files = os.listdir(tiff_dir)\n",
    "\n",
    "        if len(tiff_files) == tiff_directories[tiff_dir]:\n",
    "            for tiff_file in tiff_files:\n",
    "                tiff_file_path = os.path.join(tiff_dir, tiff_file)\n",
    "                output_path = generate_out_path(tiff_file_path, final_denoised_dataset, SIGMA)\n",
    "                denoise(tiff_file_path, output_path, SIGMA)\n",
    "        else:\n",
    "            raise Exception(f\"Number of tiff files in the directory is not equal to the number of tiff files in the dictionary in {tiff_dir}\")\n",
    "\n",
    "        print(f\"{i}th case {tiff_dir} denoised ......\")\n",
    "        count += 1\n",
    "\n",
    "    return count\n",
    "count = 0"
   ]
  },
  {
   "cell_type": "code",
   "execution_count": null,
   "metadata": {},
   "outputs": [],
   "source": [
    "# denoising pipeline for denoise the tiff images in each and every tiff directories\n",
    "denoised_tiff_count = denoising_pipeline(tiff_directories, final_denoised_dataset, SIGMA)\n",
    "print(f\"Denoised cases: {denoised_tiff_count}\")"
   ]
  }
 ],
 "metadata": {
  "kernelspec": {
   "display_name": "Python 3",
   "language": "python",
   "name": "python3"
  },
  "language_info": {
   "codemirror_mode": {
    "name": "ipython",
    "version": 3
   },
   "file_extension": ".py",
   "mimetype": "text/x-python",
   "name": "python",
   "nbconvert_exporter": "python",
   "pygments_lexer": "ipython3",
   "version": "3.11.3"
  }
 },
 "nbformat": 4,
 "nbformat_minor": 2
}
